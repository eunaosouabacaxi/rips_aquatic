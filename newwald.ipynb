{
 "cells": [
  {
   "cell_type": "code",
   "execution_count": 1,
   "metadata": {},
   "outputs": [],
   "source": [
    "import pandas as pd\n",
    "import preprocess as pp\n",
    "import datetime\n",
    "import numpy as np\n",
    "import eda\n",
    "import sklearn\n",
    "from sklearn.linear_model import LinearRegression\n",
    "import statsmodels.api as sm"
   ]
  },
  {
   "cell_type": "code",
   "execution_count": 2,
   "metadata": {},
   "outputs": [],
   "source": [
    "features_jan_2015 = pp.read_npy1('/u/project/cratsch/tescala/features_jan_2015.npy', features=True)\n",
    "\n",
    "targets_jan_2015 = pp.read_npy1('/u/project/cratsch/tescala/targets_jan_2015.npy', targets=True)"
   ]
  },
  {
   "cell_type": "code",
   "execution_count": null,
   "metadata": {},
   "outputs": [],
   "source": [
    "new_features_jan_2015 = features_jan_2015.loc[:, 'datetime':'z1']\n",
    "z_list = ['z2', 'z3', 'z4', 'z5', 'z6', 'z7', 'z8', 'z9', 'z10', 'z11', 'z12']\n",
    "for z in z_list:\n",
    "    new_features_jan_2015[z] = features_jan_2015[z]\n",
    "\n",
    "\n",
    "features_hour = new_features_jan_2015.loc[(new_features_jan_2015['datetime'].dt.time >= datetime.time(9,35))\n",
    "                                          & (new_features_jan_2015['datetime'].dt.time < datetime.time(10,40))]\n",
    "                                          #& (new_features_jan_2015['datetime'].dt.date >= datetime.date(2015,3,2))\n",
    "                                          #& (new_features_jan_2015['datetime'].dt.date < datetime.date(2015,3,28))]\n",
    "\n",
    "targets_hour = targets_jan_2015.loc[(targets_jan_2015['datetime'].dt.time >= datetime.time(9,35))\n",
    "                                    & (targets_jan_2015['datetime'].dt.time < datetime.time(10,40))]\n",
    "                                    #& (targets_jan_2015['datetime'].dt.date >= datetime.date(2015,3,2))\n",
    "                                    #& (targets_jan_2015['datetime'].dt.date < datetime.date(2015,3,28))]"
   ]
  },
  {
   "cell_type": "code",
   "execution_count": null,
   "metadata": {},
   "outputs": [],
   "source": [
    "def ols_results_wald(feature_df, target_df, x=None, z=None, y='y2'):\n",
    "    \n",
    "    q1 = feature_df[z].quantile(.25)\n",
    "    q2 = feature_df[z].quantile(.5)\n",
    "    q3 = feature_df[z].quantile(.75)\n",
    "    \n",
    "    features_q1 = feature_df[feature_df[z] < q1]\n",
    "    features_q2 = feature_df[(feature_df[z] >= q1) & (feature_df[z] < q2)]\n",
    "    features_q3 = feature_df[(feature_df[z] >= q2) & (feature_df[z] < q3)]\n",
    "    features_q4 = feature_df[feature_df[z] >= q3]\n",
    "\n",
    "    targets_q1 = target_df[feature_df[z] < q1]\n",
    "    targets_q2 = target_df[(feature_df[z] >= q1) & (feature_df[z] < q2)]\n",
    "    targets_q3 = target_df[(feature_df[z] >= q2) & (feature_df[z] < q3)]\n",
    "    targets_q4 = target_df[feature_df[z] >= q3]\n",
    "    \n",
    "    y_q1 = np.array(targets_q1[y]).reshape(-1,1)\n",
    "    y_q2 = np.array(targets_q2[y]).reshape(-1,1)\n",
    "    y_q3 = np.array(targets_q3[y]).reshape(-1,1)\n",
    "    y_q4 = np.array(targets_q4[y]).reshape(-1,1)\n",
    "    \n",
    "    zeros_q1 = np.zeros(np.array(features_q1[x]).reshape(-1,1).shape)\n",
    "    zeros_q2 = np.zeros(np.array(features_q2[x]).reshape(-1,1).shape)\n",
    "    zeros_q3 = np.zeros(np.array(features_q3[x]).reshape(-1,1).shape)\n",
    "    zeros_q4 = np.zeros(np.array(features_q4[x]).reshape(-1,1).shape)\n",
    "    \n",
    "    x_ = np.array(feature_df[x]).reshape(-1, 1)\n",
    "\n",
    "    x_q2 = np.array(features_q2[x]).reshape(-1, 1)\n",
    "    x_q3 = np.array(features_q3[x]).reshape(-1, 1)\n",
    "    x_q4 = np.array(features_q4[x]).reshape(-1, 1)\n",
    "\n",
    "    x_q2 = np.concatenate((zeros_q1, x_q2, zeros_q3, zeros_q4), axis=0)\n",
    "    x_q3 = np.concatenate((zeros_q1, zeros_q2, x_q3, zeros_q4), axis=0)\n",
    "    x_q4 = np.concatenate((zeros_q1, zeros_q2, zeros_q3, x_q4), axis=0)\n",
    "\n",
    "    z_q2 = np.array(features_q2[z]).reshape(-1, 1)\n",
    "    z_q3 = np.array(features_q3[z]).reshape(-1, 1)\n",
    "    z_q4 = np.array(features_q4[z]).reshape(-1, 1)\n",
    "\n",
    "    z_q2 = np.concatenate((zeros_q1, z_q2, zeros_q3, zeros_q4), axis=0)\n",
    "    z_q3 = np.concatenate((zeros_q1, zeros_q2, z_q3, zeros_q4), axis=0)\n",
    "    z_q4 = np.concatenate((zeros_q1, zeros_q2, zeros_q3, z_q4), axis=0)\n",
    "\n",
    "    x_z_q2 = x_q2*z_q2\n",
    "    x_z_q3 = x_q3*z_q3\n",
    "    x_z_q4 = x_q4*z_q4\n",
    "\n",
    "    bias = np.ones(x_z_q2.shape)\n",
    "    \n",
    "    x__ = np.concatenate((bias, x_, x_z_q2, x_z_q3, x_z_q4), axis=1)\n",
    "    y_ = np.concatenate((y_q1, y_q2, y_q3, y_q4), axis=0)\n",
    "\n",
    "     # reg = LinearRegression()\n",
    "    # reg.fit(x__, y_)\n",
    "    # coef = reg.coef_\n",
    "    \n",
    "    #reg = LinearRegression()\n",
    "    #reg.fit(x, y)\n",
    "    #coef = reg.coef\n",
    "    results = sm.OLS(y_, x__).fit()\n",
    "    x_vars = results.summary2().tables[1].index\n",
    "    \n",
    "    \n",
    "    all_zero = [x + '= 0' for x in x_vars[2:]]\n",
    "    a = results.wald_test(','.join(all_zero[2:]))\n",
    "    f0 = a.fvalue\n",
    "    p0 = a.pvalue\n",
    "    \n",
    "   \n",
    "    wald_str = ' = '.join(list(x_vars[2:]))\n",
    "    equal_coeffs = results.wald_test(wald_str)\n",
    "    f_equal = equal_coeffs.fvalue\n",
    "    p_equal = equal_coeffs.pvalue\n",
    "    \n",
    "    \n",
    "    return f0, p0, f_equal, p_equal"
   ]
  },
  {
   "cell_type": "code",
   "execution_count": null,
   "metadata": {},
   "outputs": [],
   "source": [
    "f0, p0, f_equal, p_equal = ols_results_wald(features_jan_2015, targets_jan_2015, x='x1', z='z1', y='y2')\n",
    "p_equal"
   ]
  },
  {
   "cell_type": "code",
   "execution_count": null,
   "metadata": {},
   "outputs": [],
   "source": [
    "z_list = new_features_jan_2015.loc[:,'z1':'z12'].columns\n",
    "x_list = features_hour.loc[:,'x1':'x34'].columns\n",
    "\n",
    "f_list = []\n",
    "p_list = []\n",
    "for z in z_list:\n",
    "    flist = []\n",
    "    plist = []\n",
    "    for feat in x_list:\n",
    "        f0, p0, f_equal, p_equal = ols_results_wald(features_hour, targets_hour, x=feat, z=z)\n",
    "        flist.append(f0)\n",
    "        plist.append(p0)\n",
    "\n",
    "    f_list.append(flist)\n",
    "    p_list.append(plist)\n",
    "    \n",
    "f_dict = {'z1':f_list[0], 'z2':f_list[1], 'z3':f_list[2], 'z4':f_list[3],\n",
    "          'z5':f_list[4], 'z6':f_list[5], 'z7':f_list[6], 'z8':f_list[7],\n",
    "          'z9':f_list[8], 'z10':f_list[9], 'z11':f_list[10], 'z12':f_list[11]}\n",
    "\n",
    "f_df = pd.DataFrame.from_dict(f_dict, orient='index',\n",
    "                       columns=x_list)\n",
    "\n",
    "p_dict = {'z1':p_list[0], 'z2':p_list[1], 'z3':p_list[2], 'z4':p_list[3],\n",
    "          'z5':p_list[4], 'z6':p_list[5], 'z7':p_list[6], 'z8':p_list[7],\n",
    "          'z9':p_list[8], 'z10':p_list[9], 'z11':p_list[10], 'z12':p_list[11]}\n",
    "\n",
    "p_df = pd.DataFrame.from_dict(p_dict, orient='index',\n",
    "                       columns=x_list)\n"
   ]
  },
  {
   "cell_type": "code",
   "execution_count": null,
   "metadata": {},
   "outputs": [],
   "source": [
    "p_list = []\n",
    "for col in p_df.columns:\n",
    "    for idx in p_df.index:\n",
    "        val = p_df.loc[idx, col]\n",
    "        p_list.append(((col, idx), val))"
   ]
  },
  {
   "cell_type": "code",
   "execution_count": null,
   "metadata": {},
   "outputs": [],
   "source": [
    "ranked_p = eda.sort_scores1(p_list)"
   ]
  },
  {
   "cell_type": "code",
   "execution_count": null,
   "metadata": {
    "scrolled": true
   },
   "outputs": [],
   "source": [
    "ranked_p"
   ]
  },
  {
   "cell_type": "code",
   "execution_count": null,
   "metadata": {},
   "outputs": [],
   "source": [
    "# change index to global rank z's\n",
    "rank_dict = {}\n",
    "for i in range(len(ranked_p)):\n",
    "    if ranked_p[i][0][1] in rank_dict:\n",
    "        rank_dict[ranked_p[i][0][1]] += i+1\n",
    "    else: \n",
    "        rank_dict[ranked_p[i][0][1]] = i+1"
   ]
  },
  {
   "cell_type": "code",
   "execution_count": null,
   "metadata": {},
   "outputs": [],
   "source": [
    "rank_dict"
   ]
  },
  {
   "cell_type": "code",
   "execution_count": 2,
   "metadata": {},
   "outputs": [],
   "source": [
    "import waldtest"
   ]
  },
  {
   "cell_type": "code",
   "execution_count": 11,
   "metadata": {
    "scrolled": true
   },
   "outputs": [
    {
     "name": "stdout",
     "output_type": "stream",
     "text": [
      "{'z8': 6536, 'z9': 7034, 'z4': 6471, 'z10': 6710, 'z5': 6803, 'z1': 7104, 'z6': 7149, 'z11': 6627, 'z3': 6726, 'z7': 6748, 'z12': 7020, 'z2': 8508}\n"
     ]
    }
   ],
   "source": [
    "# all of january\n",
    "jan = waldtest.hours(features_jan_2015, targets_jan_2015, 2015, 1, 1, 9, 30)\n",
    "new_features_jan = jan[0]\n",
    "features_hour_jan = jan[1]\n",
    "targets_hour_jan = jan[2]\n",
    "jan_0 = waldtest.wald_0(new_features_jan, features_hour_jan, targets_hour_jan)\n",
    "ranked_jan0 = jan_0[3]\n",
    "print(ranked_jan0)"
   ]
  },
  {
   "cell_type": "code",
   "execution_count": 15,
   "metadata": {},
   "outputs": [
    {
     "data": {
      "text/plain": [
       "{'z8': 6536,\n",
       " 'z9': 7034,\n",
       " 'z4': 6471,\n",
       " 'z10': 6710,\n",
       " 'z5': 6803,\n",
       " 'z1': 7104,\n",
       " 'z6': 7149,\n",
       " 'z11': 6627,\n",
       " 'z3': 6726,\n",
       " 'z7': 6748,\n",
       " 'z12': 7020,\n",
       " 'z2': 8508}"
      ]
     },
     "execution_count": 15,
     "metadata": {},
     "output_type": "execute_result"
    }
   ],
   "source": [
    "ranked_jan0"
   ]
  },
  {
   "cell_type": "code",
   "execution_count": null,
   "metadata": {},
   "outputs": [],
   "source": [
    "ranked_jan_equal"
   ]
  },
  {
   "cell_type": "code",
   "execution_count": 6,
   "metadata": {
    "scrolled": true
   },
   "outputs": [],
   "source": [
    "# jan wk 1\n",
    "# wald test for coeffs = 0 \n",
    "jan = waldtest.hours(features_jan_2015, targets_jan_2015, 2015, 1, 5, 9, 5)\n",
    "new_features_jan = jan[0]\n",
    "features_hour_jan = jan[1]\n",
    "targets_hour_jan = jan[2]\n",
    "jan_pvals = waldtest.wald_0(new_features_jan, features_hour_jan, targets_hour_jan)"
   ]
  },
  {
   "cell_type": "code",
   "execution_count": 9,
   "metadata": {},
   "outputs": [
    {
     "data": {
      "text/plain": [
       "{'x8': 349,\n",
       " 'x7': 730,\n",
       " 'x6': 861,\n",
       " 'x23': 255,\n",
       " 'x15': 672,\n",
       " 'x19': 836,\n",
       " 'x20': 1036,\n",
       " 'x14': 887,\n",
       " 'x5': 1993,\n",
       " 'x34': 2247,\n",
       " 'x3': 2549,\n",
       " 'x17': 1866,\n",
       " 'x25': 2421,\n",
       " 'x16': 2036,\n",
       " 'x26': 2275,\n",
       " 'x33': 3056,\n",
       " 'x11': 3046,\n",
       " 'x18': 2748,\n",
       " 'x31': 3519,\n",
       " 'x2': 2969,\n",
       " 'x1': 3099,\n",
       " 'x32': 3210,\n",
       " 'x10': 3135,\n",
       " 'x13': 3183,\n",
       " 'x22': 3242,\n",
       " 'x21': 3642,\n",
       " 'x4': 3355,\n",
       " 'x12': 2642,\n",
       " 'x28': 2938,\n",
       " 'x27': 3757,\n",
       " 'x9': 3441,\n",
       " 'x29': 4064,\n",
       " 'x24': 3626,\n",
       " 'x30': 3751}"
      ]
     },
     "execution_count": 9,
     "metadata": {},
     "output_type": "execute_result"
    }
   ],
   "source": [
    "ranked_jan1_x = jan_pvals[2]\n",
    "ranked_jan1_x"
   ]
  },
  {
   "cell_type": "code",
   "execution_count": 10,
   "metadata": {},
   "outputs": [
    {
     "data": {
      "text/plain": [
       "{'z8': 6304,\n",
       " 'z5': 6456,\n",
       " 'z9': 6933,\n",
       " 'z10': 7132,\n",
       " 'z7': 8084,\n",
       " 'z3': 6068,\n",
       " 'z6': 8378,\n",
       " 'z11': 5639,\n",
       " 'z1': 7072,\n",
       " 'z4': 6565,\n",
       " 'z12': 7100,\n",
       " 'z2': 7705}"
      ]
     },
     "execution_count": 10,
     "metadata": {},
     "output_type": "execute_result"
    }
   ],
   "source": [
    "ranked_jan1_z = jan_pvals[3]\n",
    "ranked_jan1_z"
   ]
  },
  {
   "cell_type": "code",
   "execution_count": null,
   "metadata": {},
   "outputs": [],
   "source": [
    "# jan wk 1 new way double check results same\n",
    "# wald test for coeffs = 0 \n",
    "\n",
    "f0, p0, f_equal, p_equal = ols_results_wald(new_features_jan_2015, features_hour, targets_hour)\n",
    "ranked_jan1 = jan_pvals[2]\n",
    "ranked_jan1"
   ]
  },
  {
   "cell_type": "code",
   "execution_count": 12,
   "metadata": {},
   "outputs": [
    {
     "data": {
      "text/plain": [
       "{'z8': 5954,\n",
       " 'z9': 6766,\n",
       " 'z4': 6311,\n",
       " 'z10': 7365,\n",
       " 'z6': 6285,\n",
       " 'z3': 6367,\n",
       " 'z7': 5345,\n",
       " 'z1': 7216,\n",
       " 'z11': 8112,\n",
       " 'z5': 6767,\n",
       " 'z12': 8544,\n",
       " 'z2': 8404}"
      ]
     },
     "execution_count": 12,
     "metadata": {},
     "output_type": "execute_result"
    }
   ],
   "source": [
    "# jan wk 2\n",
    "# wald test for coeffs = 0 \n",
    "jan = waldtest.hours(features_jan_2015, targets_jan_2015, 2015, 1, 12, 9, 5)\n",
    "new_features_jan = jan[0]\n",
    "features_hour_jan = jan[1]\n",
    "targets_hour_jan = jan[2]\n",
    "jan_pvals = waldtest.wald_0(new_features_jan, features_hour_jan, targets_hour_jan)\n",
    "ranked_jan2 = jan_pvals[3]\n",
    "ranked_jan2"
   ]
  },
  {
   "cell_type": "code",
   "execution_count": 13,
   "metadata": {},
   "outputs": [
    {
     "data": {
      "text/plain": [
       "{'z8': 6853,\n",
       " 'z9': 6816,\n",
       " 'z5': 6826,\n",
       " 'z4': 4264,\n",
       " 'z11': 4747,\n",
       " 'z10': 7771,\n",
       " 'z7': 8035,\n",
       " 'z1': 7860,\n",
       " 'z6': 7564,\n",
       " 'z12': 7205,\n",
       " 'z3': 6999,\n",
       " 'z2': 8496}"
      ]
     },
     "execution_count": 13,
     "metadata": {},
     "output_type": "execute_result"
    }
   ],
   "source": [
    "# jan wk 3\n",
    "# wald test for coeffs = 0 \n",
    "jan = waldtest.hours(features_jan_2015, targets_jan_2015, 2015, 1, 19, 9, 5)\n",
    "new_features_jan = jan[0]\n",
    "features_hour_jan = jan[1]\n",
    "targets_hour_jan = jan[2]\n",
    "jan_pvals = waldtest.wald_0(new_features_jan, features_hour_jan, targets_hour_jan)\n",
    "ranked_jan3 = jan_pvals[3]\n",
    "ranked_jan3"
   ]
  },
  {
   "cell_type": "code",
   "execution_count": 14,
   "metadata": {},
   "outputs": [
    {
     "data": {
      "text/plain": [
       "{'z8': 5886,\n",
       " 'z4': 6661,\n",
       " 'z9': 6985,\n",
       " 'z5': 6612,\n",
       " 'z10': 5907,\n",
       " 'z3': 6608,\n",
       " 'z6': 7333,\n",
       " 'z11': 5966,\n",
       " 'z7': 6009,\n",
       " 'z1': 7718,\n",
       " 'z12': 8901,\n",
       " 'z2': 8850}"
      ]
     },
     "execution_count": 14,
     "metadata": {},
     "output_type": "execute_result"
    }
   ],
   "source": [
    "# jan wk 4\n",
    "# wald test for coeffs = 0 \n",
    "jan = waldtest.hours(features_jan_2015, targets_jan_2015, 2015, 1, 26, 9, 5)\n",
    "new_features_jan = jan[0]\n",
    "features_hour_jan = jan[1]\n",
    "targets_hour_jan = jan[2]\n",
    "jan_pvals = waldtest.wald_0(new_features_jan, features_hour_jan, targets_hour_jan)\n",
    "ranked_jan4 = jan_pvals[3]\n",
    "ranked_jan4"
   ]
  },
  {
   "cell_type": "code",
   "execution_count": null,
   "metadata": {},
   "outputs": [],
   "source": [
    "# jan wk 1\n",
    "# wald test for equal coeffs\n",
    "jan = waldtest.hours(features_jan_2015, targets_jan_2015, 2015, 1, 5, 9, 5)\n",
    "new_features_jan = jan[0]\n",
    "features_hour_jan = jan[1]\n",
    "targets_hour_jan = jan[2]\n",
    "jan_pvals = waldtest.wald_equal(new_features_jan, features_hour_jan, targets_hour_jan)\n",
    "ranked_jan1 = jan_pvals[1]\n",
    "ranked_jan1"
   ]
  },
  {
   "cell_type": "code",
   "execution_count": null,
   "metadata": {},
   "outputs": [],
   "source": [
    "# jan wk 2\n",
    "# wald test for equal coeffs\n",
    "jan = waldtest.hours(features_jan_2015, targets_jan_2015, 2015, 1, 12, 9, 5)\n",
    "new_features_jan = jan[0]\n",
    "features_hour_jan = jan[1]\n",
    "targets_hour_jan = jan[2]\n",
    "jan_pvals = waldtest.wald_equal(new_features_jan, features_hour_jan, targets_hour_jan)\n",
    "ranked_jan2 = jan_pvals[2]\n",
    "ranked_jan2"
   ]
  },
  {
   "cell_type": "code",
   "execution_count": null,
   "metadata": {},
   "outputs": [],
   "source": [
    "# jan wk 3\n",
    "# wald test for equal coeffs\n",
    "jan = waldtest.hours(features_jan_2015, targets_jan_2015, 2015, 1, 19, 9, 5)\n",
    "new_features_jan = jan[0]\n",
    "features_hour_jan = jan[1]\n",
    "targets_hour_jan = jan[2]\n",
    "jan_pvals = waldtest.wald_equal(new_features_jan, features_hour_jan, targets_hour_jan)\n",
    "ranked_jan3 = jan_pvals[2]\n",
    "ranked_jan3"
   ]
  },
  {
   "cell_type": "code",
   "execution_count": null,
   "metadata": {},
   "outputs": [],
   "source": [
    "# jan wk 4\n",
    "# wald test for equal coeffs\n",
    "jan = waldtest.hours(features_jan_2015, targets_jan_2015, 2015, 1, 26, 9, 5)\n",
    "new_features_jan = jan[0]\n",
    "features_hour_jan = jan[1]\n",
    "targets_hour_jan = jan[2]\n",
    "jan_pvals = waldtest.wald_equal(new_features_jan, features_hour_jan, targets_hour_jan)\n",
    "ranked_jan4 = jan_pvals[2]\n",
    "ranked_jan4"
   ]
  },
  {
   "cell_type": "markdown",
   "metadata": {},
   "source": [
    "# February"
   ]
  },
  {
   "cell_type": "code",
   "execution_count": 16,
   "metadata": {},
   "outputs": [],
   "source": [
    "features_feb_2015 = pp.read_npy1('/u/project/cratsch/tescala/features_feb_2015.npy', features=True)\n",
    "\n",
    "targets_feb_2015 = pp.read_npy1('/u/project/cratsch/tescala/targets_feb_2015.npy', targets=True)"
   ]
  },
  {
   "cell_type": "code",
   "execution_count": 18,
   "metadata": {},
   "outputs": [],
   "source": [
    "# all of february\n",
    "# wald test coeffs = 0 \n",
    "# x's and z's ranked globally\n",
    "feb = waldtest.hours(features_feb_2015, targets_feb_2015, 2015, 2, 2, 9, 26)\n",
    "new_features_feb = feb[0]\n",
    "features_hour_feb = feb[1]\n",
    "targets_hour_feb = feb[2]\n",
    "feb_0 = waldtest.wald_0(new_features_feb, features_hour_feb, targets_hour_feb)"
   ]
  },
  {
   "cell_type": "code",
   "execution_count": 19,
   "metadata": {},
   "outputs": [
    {
     "data": {
      "text/plain": [
       "{'x8': 231,\n",
       " 'x7': 289,\n",
       " 'x6': 324,\n",
       " 'x5': 632,\n",
       " 'x3': 1839,\n",
       " 'x2': 1150,\n",
       " 'x33': 1030,\n",
       " 'x34': 1710,\n",
       " 'x1': 1283,\n",
       " 'x23': 1657,\n",
       " 'x32': 1174,\n",
       " 'x10': 1392,\n",
       " 'x13': 1441,\n",
       " 'x11': 1627,\n",
       " 'x27': 1568,\n",
       " 'x24': 2110,\n",
       " 'x15': 2808,\n",
       " 'x12': 3389,\n",
       " 'x14': 3372,\n",
       " 'x29': 3236,\n",
       " 'x18': 3204,\n",
       " 'x22': 3115,\n",
       " 'x4': 2761,\n",
       " 'x26': 3488,\n",
       " 'x19': 3330,\n",
       " 'x21': 3416,\n",
       " 'x16': 3987,\n",
       " 'x17': 4018,\n",
       " 'x25': 3400,\n",
       " 'x20': 3743,\n",
       " 'x30': 3944,\n",
       " 'x28': 4134,\n",
       " 'x31': 4331,\n",
       " 'x9': 4303}"
      ]
     },
     "execution_count": 19,
     "metadata": {},
     "output_type": "execute_result"
    }
   ],
   "source": [
    "ranked_feb0_x = feb_0[2]\n",
    "ranked_feb0_x"
   ]
  },
  {
   "cell_type": "code",
   "execution_count": 20,
   "metadata": {},
   "outputs": [
    {
     "data": {
      "text/plain": [
       "{'z8': 6349,\n",
       " 'z4': 6091,\n",
       " 'z9': 7384,\n",
       " 'z5': 6751,\n",
       " 'z10': 7438,\n",
       " 'z3': 6138,\n",
       " 'z6': 7133,\n",
       " 'z7': 7241,\n",
       " 'z1': 6675,\n",
       " 'z11': 6612,\n",
       " 'z12': 8026,\n",
       " 'z2': 7598}"
      ]
     },
     "execution_count": 20,
     "metadata": {},
     "output_type": "execute_result"
    }
   ],
   "source": [
    "ranked_feb0_z = feb_0[3]\n",
    "ranked_feb0_z"
   ]
  },
  {
   "cell_type": "markdown",
   "metadata": {},
   "source": [
    "# March"
   ]
  },
  {
   "cell_type": "code",
   "execution_count": 21,
   "metadata": {},
   "outputs": [],
   "source": [
    "features_mar_2015 = pp.read_npy1('/u/project/cratsch/tescala/features_mar_2015.npy', features=True)\n",
    "\n",
    "targets_mar_2015 = pp.read_npy1('/u/project/cratsch/tescala/targets_mar_2015.npy', targets=True)"
   ]
  },
  {
   "cell_type": "code",
   "execution_count": 27,
   "metadata": {},
   "outputs": [],
   "source": [
    "# all of march\n",
    "# wald test coeffs = 0 \n",
    "# x's and z's ranked globally\n",
    "mar = waldtest.hours(features_mar_2015, targets_mar_2015, 2015, 3, 2, 9, 28)\n",
    "new_features_mar = mar[0]\n",
    "features_hour_mar = mar[1]\n",
    "targets_hour_mar = mar[2]\n",
    "mar_0 = waldtest.wald_0(new_features_mar, features_hour_mar, targets_hour_mar)"
   ]
  },
  {
   "cell_type": "code",
   "execution_count": 28,
   "metadata": {},
   "outputs": [
    {
     "data": {
      "text/plain": [
       "{'x8': 267,\n",
       " 'x7': 327,\n",
       " 'x6': 373,\n",
       " 'x5': 863,\n",
       " 'x3': 1285,\n",
       " 'x2': 1104,\n",
       " 'x33': 992,\n",
       " 'x1': 1269,\n",
       " 'x32': 1176,\n",
       " 'x10': 1384,\n",
       " 'x13': 1401,\n",
       " 'x34': 1479,\n",
       " 'x11': 1376,\n",
       " 'x27': 1714,\n",
       " 'x23': 1893,\n",
       " 'x25': 3455,\n",
       " 'x26': 3542,\n",
       " 'x20': 2724,\n",
       " 'x19': 3156,\n",
       " 'x15': 2555,\n",
       " 'x24': 2793,\n",
       " 'x18': 3202,\n",
       " 'x14': 3119,\n",
       " 'x4': 2856,\n",
       " 'x17': 3794,\n",
       " 'x16': 3675,\n",
       " 'x12': 3060,\n",
       " 'x21': 3654,\n",
       " 'x28': 4105,\n",
       " 'x9': 4143,\n",
       " 'x29': 4016,\n",
       " 'x30': 4245,\n",
       " 'x22': 3907,\n",
       " 'x31': 4532}"
      ]
     },
     "execution_count": 28,
     "metadata": {},
     "output_type": "execute_result"
    }
   ],
   "source": [
    "ranked_mar0_x = mar_0[2]\n",
    "ranked_mar0_x"
   ]
  },
  {
   "cell_type": "code",
   "execution_count": 29,
   "metadata": {},
   "outputs": [
    {
     "data": {
      "text/plain": [
       "{'z8': 6106,\n",
       " 'z4': 6569,\n",
       " 'z5': 5973,\n",
       " 'z10': 7153,\n",
       " 'z9': 7556,\n",
       " 'z3': 6659,\n",
       " 'z7': 6800,\n",
       " 'z6': 6914,\n",
       " 'z12': 7186,\n",
       " 'z1': 7927,\n",
       " 'z11': 6043,\n",
       " 'z2': 8550}"
      ]
     },
     "execution_count": 29,
     "metadata": {},
     "output_type": "execute_result"
    }
   ],
   "source": [
    "ranked_mar0_z = mar_0[3]\n",
    "ranked_mar0_z"
   ]
  },
  {
   "cell_type": "markdown",
   "metadata": {},
   "source": [
    "# April"
   ]
  },
  {
   "cell_type": "code",
   "execution_count": 25,
   "metadata": {},
   "outputs": [],
   "source": [
    "features_apr_2015 = pp.read_npy1('/u/project/cratsch/tescala/features_apr_2015.npy', features=True)\n",
    "\n",
    "targets_apr_2015 = pp.read_npy1('/u/project/cratsch/tescala/targets_apr_2015.npy', targets=True)"
   ]
  },
  {
   "cell_type": "code",
   "execution_count": 31,
   "metadata": {},
   "outputs": [],
   "source": [
    "# all of april\n",
    "# wald test coeffs = 0 \n",
    "# x's and z's ranked globally\n",
    "apr = waldtest.hours(features_apr_2015, targets_apr_2015, 2015, 4, 1, 9, 29)\n",
    "new_features_apr = apr[0]\n",
    "features_hour_apr = apr[1]\n",
    "targets_hour_apr = apr[2]\n",
    "apr_0 = waldtest.wald_0(new_features_apr, features_hour_apr, targets_hour_apr)"
   ]
  },
  {
   "cell_type": "code",
   "execution_count": 32,
   "metadata": {},
   "outputs": [
    {
     "data": {
      "text/plain": [
       "{'x8': 291,\n",
       " 'x7': 429,\n",
       " 'x6': 466,\n",
       " 'x2': 892,\n",
       " 'x1': 948,\n",
       " 'x10': 1013,\n",
       " 'x13': 1045,\n",
       " 'x24': 1474,\n",
       " 'x33': 1439,\n",
       " 'x11': 1273,\n",
       " 'x32': 1535,\n",
       " 'x27': 2004,\n",
       " 'x3': 1198,\n",
       " 'x5': 1291,\n",
       " 'x34': 1708,\n",
       " 'x21': 2454,\n",
       " 'x23': 2713,\n",
       " 'x20': 2434,\n",
       " 'x22': 2828,\n",
       " 'x15': 2811,\n",
       " 'x18': 2963,\n",
       " 'x4': 2905,\n",
       " 'x19': 3020,\n",
       " 'x16': 3699,\n",
       " 'x14': 3903,\n",
       " 'x17': 3713,\n",
       " 'x9': 3756,\n",
       " 'x25': 3684,\n",
       " 'x12': 3950,\n",
       " 'x30': 4192,\n",
       " 'x26': 4104,\n",
       " 'x28': 4362,\n",
       " 'x31': 4430,\n",
       " 'x29': 4509}"
      ]
     },
     "execution_count": 32,
     "metadata": {},
     "output_type": "execute_result"
    }
   ],
   "source": [
    "ranked_apr0_x = apr_0[2]\n",
    "ranked_apr0_x"
   ]
  },
  {
   "cell_type": "code",
   "execution_count": 33,
   "metadata": {},
   "outputs": [
    {
     "data": {
      "text/plain": [
       "{'z8': 6214,\n",
       " 'z9': 6820,\n",
       " 'z5': 6112,\n",
       " 'z10': 6870,\n",
       " 'z4': 7107,\n",
       " 'z3': 6992,\n",
       " 'z6': 6449,\n",
       " 'z11': 7400,\n",
       " 'z7': 5959,\n",
       " 'z1': 7274,\n",
       " 'z12': 8116,\n",
       " 'z2': 8123}"
      ]
     },
     "execution_count": 33,
     "metadata": {},
     "output_type": "execute_result"
    }
   ],
   "source": [
    "ranked_apr0_z = apr_0[3]\n",
    "ranked_apr0_z"
   ]
  },
  {
   "cell_type": "markdown",
   "metadata": {},
   "source": [
    "# May"
   ]
  },
  {
   "cell_type": "code",
   "execution_count": 34,
   "metadata": {},
   "outputs": [],
   "source": [
    "features_may_2015 = pp.read_npy1('/u/project/cratsch/tescala/features_may_2015.npy', features=True)\n",
    "\n",
    "targets_may_2015 = pp.read_npy1('/u/project/cratsch/tescala/targets_may_2015.npy', targets=True)"
   ]
  },
  {
   "cell_type": "code",
   "execution_count": 35,
   "metadata": {},
   "outputs": [],
   "source": [
    "# all of may\n",
    "# wald test coeffs = 0 \n",
    "# x's and z's ranked globally\n",
    "may = waldtest.hours(features_may_2015, targets_may_2015, 2015, 5, 4, 9, 25)\n",
    "new_features_may = may[0]\n",
    "features_hour_may = may[1]\n",
    "targets_hour_may = may[2]\n",
    "may_0 = waldtest.wald_0(new_features_may, features_hour_may, targets_hour_may)"
   ]
  },
  {
   "cell_type": "code",
   "execution_count": 36,
   "metadata": {},
   "outputs": [
    {
     "data": {
      "text/plain": [
       "{'x8': 206,\n",
       " 'x7': 351,\n",
       " 'x6': 391,\n",
       " 'x5': 937,\n",
       " 'x3': 1239,\n",
       " 'x33': 1150,\n",
       " 'x32': 1286,\n",
       " 'x2': 1158,\n",
       " 'x23': 1296,\n",
       " 'x34': 1401,\n",
       " 'x1': 1240,\n",
       " 'x10': 1289,\n",
       " 'x13': 1355,\n",
       " 'x27': 1814,\n",
       " 'x11': 1548,\n",
       " 'x24': 2353,\n",
       " 'x15': 2513,\n",
       " 'x14': 2957,\n",
       " 'x17': 2641,\n",
       " 'x19': 3097,\n",
       " 'x20': 3131,\n",
       " 'x4': 2940,\n",
       " 'x18': 3664,\n",
       " 'x16': 3093,\n",
       " 'x31': 3673,\n",
       " 'x29': 3717,\n",
       " 'x21': 3827,\n",
       " 'x26': 3889,\n",
       " 'x22': 4038,\n",
       " 'x12': 4037,\n",
       " 'x25': 3733,\n",
       " 'x28': 4400,\n",
       " 'x9': 4486,\n",
       " 'x30': 4586}"
      ]
     },
     "execution_count": 36,
     "metadata": {},
     "output_type": "execute_result"
    }
   ],
   "source": [
    "ranked_may0_x = may_0[2]\n",
    "ranked_may0_x"
   ]
  },
  {
   "cell_type": "code",
   "execution_count": 37,
   "metadata": {},
   "outputs": [
    {
     "data": {
      "text/plain": [
       "{'z9': 6720,\n",
       " 'z8': 6341,\n",
       " 'z4': 7071,\n",
       " 'z5': 6229,\n",
       " 'z10': 6639,\n",
       " 'z3': 7298,\n",
       " 'z7': 6156,\n",
       " 'z6': 6404,\n",
       " 'z1': 7605,\n",
       " 'z12': 8001,\n",
       " 'z11': 7140,\n",
       " 'z2': 7832}"
      ]
     },
     "execution_count": 37,
     "metadata": {},
     "output_type": "execute_result"
    }
   ],
   "source": [
    "ranked_may0_z = may_0[3]\n",
    "ranked_may0_z"
   ]
  },
  {
   "cell_type": "markdown",
   "metadata": {},
   "source": [
    "# June"
   ]
  },
  {
   "cell_type": "code",
   "execution_count": 38,
   "metadata": {},
   "outputs": [],
   "source": [
    "features_jun_2015 = pp.read_npy1('/u/project/cratsch/tescala/features_jun_2015.npy', features=True)\n",
    "\n",
    "targets_jun_2015 = pp.read_npy1('/u/project/cratsch/tescala/targets_jun_2015.npy', targets=True)"
   ]
  },
  {
   "cell_type": "code",
   "execution_count": 39,
   "metadata": {},
   "outputs": [],
   "source": [
    "# all of june\n",
    "# wald test coeffs = 0 \n",
    "# x's and z's ranked globally\n",
    "jun = waldtest.hours(features_jun_2015, targets_jun_2015, 2015, 6, 1, 9, 26)\n",
    "new_features_jun = jun[0]\n",
    "features_hour_jun = jun[1]\n",
    "targets_hour_jun = jun[2]\n",
    "jun_0 = waldtest.wald_0(new_features_jun, features_hour_jun, targets_hour_jun)"
   ]
  },
  {
   "cell_type": "code",
   "execution_count": 40,
   "metadata": {},
   "outputs": [
    {
     "data": {
      "text/plain": [
       "{'x8': 163,\n",
       " 'x7': 325,\n",
       " 'x6': 394,\n",
       " 'x5': 909,\n",
       " 'x3': 825,\n",
       " 'x2': 1499,\n",
       " 'x34': 1063,\n",
       " 'x1': 1851,\n",
       " 'x33': 1400,\n",
       " 'x10': 1997,\n",
       " 'x13': 2060,\n",
       " 'x32': 1717,\n",
       " 'x11': 2063,\n",
       " 'x23': 1337,\n",
       " 'x19': 1131,\n",
       " 'x20': 1905,\n",
       " 'x27': 2806,\n",
       " 'x24': 2720,\n",
       " 'x18': 2488,\n",
       " 'x14': 2455,\n",
       " 'x4': 2447,\n",
       " 'x15': 2732,\n",
       " 'x22': 3094,\n",
       " 'x25': 3235,\n",
       " 'x17': 3955,\n",
       " 'x21': 3515,\n",
       " 'x26': 3684,\n",
       " 'x12': 4079,\n",
       " 'x9': 3973,\n",
       " 'x16': 4009,\n",
       " 'x31': 4082,\n",
       " 'x30': 4320,\n",
       " 'x28': 4639,\n",
       " 'x29': 4564}"
      ]
     },
     "execution_count": 40,
     "metadata": {},
     "output_type": "execute_result"
    }
   ],
   "source": [
    "ranked_jun0_x = jun_0[2]\n",
    "ranked_jun0_x"
   ]
  },
  {
   "cell_type": "code",
   "execution_count": 41,
   "metadata": {},
   "outputs": [
    {
     "data": {
      "text/plain": [
       "{'z8': 5849,\n",
       " 'z9': 6132,\n",
       " 'z5': 6390,\n",
       " 'z3': 6356,\n",
       " 'z4': 6529,\n",
       " 'z10': 7400,\n",
       " 'z7': 6041,\n",
       " 'z6': 6938,\n",
       " 'z11': 7111,\n",
       " 'z1': 7831,\n",
       " 'z12': 8244,\n",
       " 'z2': 8615}"
      ]
     },
     "execution_count": 41,
     "metadata": {},
     "output_type": "execute_result"
    }
   ],
   "source": [
    "ranked_jun0_z = jun_0[3]\n",
    "ranked_jun0_z"
   ]
  },
  {
   "cell_type": "markdown",
   "metadata": {},
   "source": [
    "# July"
   ]
  },
  {
   "cell_type": "code",
   "execution_count": 3,
   "metadata": {},
   "outputs": [],
   "source": [
    "features_jul_2015 = pp.read_npy1('/u/project/cratsch/tescala/features_jul_2015.npy', features=True)\n",
    "\n",
    "targets_jul_2015 = pp.read_npy1('/u/project/cratsch/tescala/targets_jul_2015.npy', targets=True)"
   ]
  },
  {
   "cell_type": "code",
   "execution_count": 4,
   "metadata": {},
   "outputs": [],
   "source": [
    "# all of july\n",
    "# wald test coeffs = 0 \n",
    "# x's and z's ranked globally\n",
    "jul = waldtest.hours(features_jul_2015, targets_jul_2015, 2015, 7, 1, 9, 30)\n",
    "new_features_jul = jul[0]\n",
    "features_hour_jul = jul[1]\n",
    "targets_hour_jul = jul[2]\n",
    "jul_0 = waldtest.wald_0(new_features_jul, features_hour_jul, targets_hour_jul)"
   ]
  },
  {
   "cell_type": "code",
   "execution_count": 5,
   "metadata": {},
   "outputs": [
    {
     "data": {
      "text/plain": [
       "{'x8': 142,\n",
       " 'x7': 332,\n",
       " 'x6': 386,\n",
       " 'x5': 723,\n",
       " 'x3': 673,\n",
       " 'x34': 1056,\n",
       " 'x2': 1070,\n",
       " 'x1': 1259,\n",
       " 'x23': 1539,\n",
       " 'x10': 1374,\n",
       " 'x13': 1361,\n",
       " 'x33': 1405,\n",
       " 'x11': 1670,\n",
       " 'x32': 1624,\n",
       " 'x24': 2194,\n",
       " 'x22': 2899,\n",
       " 'x12': 3025,\n",
       " 'x27': 2339,\n",
       " 'x21': 2867,\n",
       " 'x17': 3320,\n",
       " 'x20': 2972,\n",
       " 'x15': 3115,\n",
       " 'x25': 3391,\n",
       " 'x4': 3225,\n",
       " 'x9': 3265,\n",
       " 'x26': 3749,\n",
       " 'x14': 3896,\n",
       " 'x19': 3612,\n",
       " 'x16': 3518,\n",
       " 'x18': 3832,\n",
       " 'x30': 4377,\n",
       " 'x29': 4286,\n",
       " 'x31': 4471,\n",
       " 'x28': 4469}"
      ]
     },
     "execution_count": 5,
     "metadata": {},
     "output_type": "execute_result"
    }
   ],
   "source": [
    "ranked_jul0_x = jul_0[2]\n",
    "ranked_jul0_x"
   ]
  },
  {
   "cell_type": "code",
   "execution_count": 6,
   "metadata": {},
   "outputs": [
    {
     "data": {
      "text/plain": [
       "{'z9': 6941,\n",
       " 'z8': 5885,\n",
       " 'z10': 6663,\n",
       " 'z5': 6600,\n",
       " 'z4': 6894,\n",
       " 'z3': 6604,\n",
       " 'z7': 6950,\n",
       " 'z1': 6971,\n",
       " 'z11': 5941,\n",
       " 'z6': 7299,\n",
       " 'z12': 8597,\n",
       " 'z2': 8091}"
      ]
     },
     "execution_count": 6,
     "metadata": {},
     "output_type": "execute_result"
    }
   ],
   "source": [
    "ranked_jul0_z = jul_0[3]\n",
    "ranked_jul0_z"
   ]
  },
  {
   "cell_type": "markdown",
   "metadata": {},
   "source": [
    "# August"
   ]
  },
  {
   "cell_type": "code",
   "execution_count": 7,
   "metadata": {},
   "outputs": [],
   "source": [
    "features_aug_2015 = pp.read_npy1('/u/project/cratsch/tescala/features_aug_2015.npy', features=True)\n",
    "\n",
    "targets_aug_2015 = pp.read_npy1('/u/project/cratsch/tescala/targets_aug_2015.npy', targets=True)"
   ]
  },
  {
   "cell_type": "code",
   "execution_count": 8,
   "metadata": {},
   "outputs": [],
   "source": [
    "# all of august\n",
    "# wald test coeffs = 0 \n",
    "# x's and z's ranked globally\n",
    "aug = waldtest.hours(features_aug_2015, targets_aug_2015, 2015, 8, 3, 9, 25)\n",
    "new_features_aug = aug[0]\n",
    "features_hour_aug = aug[1]\n",
    "targets_hour_aug = aug[2]\n",
    "aug_0 = waldtest.wald_0(new_features_aug, features_hour_aug, targets_hour_aug)"
   ]
  },
  {
   "cell_type": "code",
   "execution_count": 9,
   "metadata": {},
   "outputs": [
    {
     "data": {
      "text/plain": [
       "{'x8': 375,\n",
       " 'x7': 488,\n",
       " 'x6': 536,\n",
       " 'x34': 1102,\n",
       " 'x33': 1177,\n",
       " 'x5': 1090,\n",
       " 'x32': 1386,\n",
       " 'x2': 1001,\n",
       " 'x3': 888,\n",
       " 'x1': 1214,\n",
       " 'x10': 1349,\n",
       " 'x23': 1274,\n",
       " 'x13': 1378,\n",
       " 'x11': 1634,\n",
       " 'x24': 2231,\n",
       " 'x27': 1977,\n",
       " 'x15': 2433,\n",
       " 'x25': 2875,\n",
       " 'x26': 3187,\n",
       " 'x20': 2805,\n",
       " 'x14': 3404,\n",
       " 'x17': 3160,\n",
       " 'x19': 3224,\n",
       " 'x18': 3668,\n",
       " 'x16': 3512,\n",
       " 'x9': 3479,\n",
       " 'x12': 3704,\n",
       " 'x21': 3795,\n",
       " 'x22': 4023,\n",
       " 'x4': 3691,\n",
       " 'x31': 3885,\n",
       " 'x30': 4476,\n",
       " 'x29': 4420,\n",
       " 'x28': 4595}"
      ]
     },
     "execution_count": 9,
     "metadata": {},
     "output_type": "execute_result"
    }
   ],
   "source": [
    "ranked_aug0_x = aug_0[2]\n",
    "ranked_aug0_x"
   ]
  },
  {
   "cell_type": "code",
   "execution_count": 10,
   "metadata": {},
   "outputs": [
    {
     "data": {
      "text/plain": [
       "{'z9': 6824,\n",
       " 'z8': 6406,\n",
       " 'z3': 6351,\n",
       " 'z4': 6559,\n",
       " 'z5': 6110,\n",
       " 'z10': 6933,\n",
       " 'z7': 5552,\n",
       " 'z11': 6736,\n",
       " 'z1': 7439,\n",
       " 'z6': 6516,\n",
       " 'z12': 8616,\n",
       " 'z2': 9394}"
      ]
     },
     "execution_count": 10,
     "metadata": {},
     "output_type": "execute_result"
    }
   ],
   "source": [
    "ranked_aug0_z = aug_0[3]\n",
    "ranked_aug0_z"
   ]
  },
  {
   "cell_type": "markdown",
   "metadata": {},
   "source": [
    "# September"
   ]
  },
  {
   "cell_type": "code",
   "execution_count": 11,
   "metadata": {},
   "outputs": [],
   "source": [
    "features_sep_2015 = pp.read_npy1('/u/project/cratsch/tescala/features_sep_2015.npy', features=True)\n",
    "\n",
    "targets_sep_2015 = pp.read_npy1('/u/project/cratsch/tescala/targets_sep_2015.npy', targets=True)"
   ]
  },
  {
   "cell_type": "code",
   "execution_count": 12,
   "metadata": {},
   "outputs": [],
   "source": [
    "# all of september\n",
    "# wald test coeffs = 0 \n",
    "# x's and z's ranked globally\n",
    "sep = waldtest.hours(features_sep_2015, targets_sep_2015, 2015, 9, 1, 9, 25)\n",
    "new_features_sep = sep[0]\n",
    "features_hour_sep = sep[1]\n",
    "targets_hour_sep = sep[2]\n",
    "sep_0 = waldtest.wald_0(new_features_sep, features_hour_sep, targets_hour_sep)"
   ]
  },
  {
   "cell_type": "code",
   "execution_count": 13,
   "metadata": {},
   "outputs": [
    {
     "data": {
      "text/plain": [
       "{'x8': 177,\n",
       " 'x7': 317,\n",
       " 'x6': 369,\n",
       " 'x34': 947,\n",
       " 'x5': 818,\n",
       " 'x3': 689,\n",
       " 'x33': 1161,\n",
       " 'x2': 978,\n",
       " 'x32': 1480,\n",
       " 'x1': 1289,\n",
       " 'x10': 1443,\n",
       " 'x13': 1471,\n",
       " 'x27': 2133,\n",
       " 'x24': 2101,\n",
       " 'x11': 1823,\n",
       " 'x23': 2144,\n",
       " 'x12': 2808,\n",
       " 'x15': 2428,\n",
       " 'x20': 2591,\n",
       " 'x19': 2928,\n",
       " 'x25': 3829,\n",
       " 'x14': 2946,\n",
       " 'x16': 3425,\n",
       " 'x17': 3169,\n",
       " 'x4': 3392,\n",
       " 'x18': 3794,\n",
       " 'x21': 3657,\n",
       " 'x26': 3919,\n",
       " 'x22': 3508,\n",
       " 'x31': 4087,\n",
       " 'x28': 4228,\n",
       " 'x9': 4509,\n",
       " 'x30': 4467,\n",
       " 'x29': 4411}"
      ]
     },
     "execution_count": 13,
     "metadata": {},
     "output_type": "execute_result"
    }
   ],
   "source": [
    "ranked_sep0_x = sep_0[2]\n",
    "ranked_sep0_x"
   ]
  },
  {
   "cell_type": "code",
   "execution_count": 14,
   "metadata": {},
   "outputs": [
    {
     "data": {
      "text/plain": [
       "{'z8': 5926,\n",
       " 'z9': 6405,\n",
       " 'z7': 6305,\n",
       " 'z10': 6833,\n",
       " 'z5': 6295,\n",
       " 'z4': 7309,\n",
       " 'z6': 6730,\n",
       " 'z11': 6591,\n",
       " 'z1': 7714,\n",
       " 'z3': 7506,\n",
       " 'z12': 7546,\n",
       " 'z2': 8276}"
      ]
     },
     "execution_count": 14,
     "metadata": {},
     "output_type": "execute_result"
    }
   ],
   "source": [
    "ranked_sep0_z = sep_0[3]\n",
    "ranked_sep0_z"
   ]
  },
  {
   "cell_type": "markdown",
   "metadata": {},
   "source": [
    "# October"
   ]
  },
  {
   "cell_type": "code",
   "execution_count": 15,
   "metadata": {},
   "outputs": [],
   "source": [
    "features_oct_2015 = pp.read_npy1('/u/project/cratsch/tescala/features_oct_2015.npy', features=True)\n",
    "\n",
    "targets_oct_2015 = pp.read_npy1('/u/project/cratsch/tescala/targets_oct_2015.npy', targets=True)"
   ]
  },
  {
   "cell_type": "code",
   "execution_count": 16,
   "metadata": {},
   "outputs": [],
   "source": [
    "# all of october\n",
    "# wald test coeffs = 0 \n",
    "# x's and z's ranked globally\n",
    "october = waldtest.hours(features_oct_2015, targets_oct_2015, 2015, 10, 5, 9, 25)\n",
    "new_features_oct = october[0]\n",
    "features_hour_oct = october[1]\n",
    "targets_hour_oct = october[2]\n",
    "oct_0 = waldtest.wald_0(new_features_oct, features_hour_oct, targets_hour_oct)"
   ]
  },
  {
   "cell_type": "code",
   "execution_count": 17,
   "metadata": {},
   "outputs": [
    {
     "data": {
      "text/plain": [
       "{'x8': 267,\n",
       " 'x7': 421,\n",
       " 'x6': 444,\n",
       " 'x32': 1290,\n",
       " 'x33': 1220,\n",
       " 'x5': 1125,\n",
       " 'x34': 1481,\n",
       " 'x2': 1063,\n",
       " 'x1': 1171,\n",
       " 'x10': 1272,\n",
       " 'x24': 1803,\n",
       " 'x13': 1335,\n",
       " 'x3': 1068,\n",
       " 'x23': 2380,\n",
       " 'x27': 1943,\n",
       " 'x22': 2209,\n",
       " 'x20': 3508,\n",
       " 'x19': 3077,\n",
       " 'x11': 2229,\n",
       " 'x21': 2364,\n",
       " 'x18': 3110,\n",
       " 'x25': 2547,\n",
       " 'x16': 3706,\n",
       " 'x14': 3048,\n",
       " 'x26': 3227,\n",
       " 'x4': 3993,\n",
       " 'x17': 4035,\n",
       " 'x28': 3669,\n",
       " 'x31': 3852,\n",
       " 'x12': 3789,\n",
       " 'x15': 3969,\n",
       " 'x30': 4020,\n",
       " 'x29': 4384,\n",
       " 'x9': 4417}"
      ]
     },
     "execution_count": 17,
     "metadata": {},
     "output_type": "execute_result"
    }
   ],
   "source": [
    "ranked_oct0_x = oct_0[2]\n",
    "ranked_oct0_x"
   ]
  },
  {
   "cell_type": "code",
   "execution_count": 18,
   "metadata": {},
   "outputs": [
    {
     "data": {
      "text/plain": [
       "{'z9': 7046,\n",
       " 'z8': 6612,\n",
       " 'z4': 6173,\n",
       " 'z10': 6813,\n",
       " 'z3': 5953,\n",
       " 'z5': 6563,\n",
       " 'z1': 7355,\n",
       " 'z7': 6662,\n",
       " 'z6': 6709,\n",
       " 'z11': 7014,\n",
       " 'z12': 8027,\n",
       " 'z2': 8509}"
      ]
     },
     "execution_count": 18,
     "metadata": {},
     "output_type": "execute_result"
    }
   ],
   "source": [
    "ranked_oct0_z = oct_0[3]\n",
    "ranked_oct0_z"
   ]
  },
  {
   "cell_type": "markdown",
   "metadata": {},
   "source": [
    "# November"
   ]
  },
  {
   "cell_type": "code",
   "execution_count": 19,
   "metadata": {},
   "outputs": [],
   "source": [
    "features_nov_2015 = pp.read_npy1('/u/project/cratsch/tescala/features_nov_2015.npy', features=True)\n",
    "\n",
    "targets_nov_2015 = pp.read_npy1('/u/project/cratsch/tescala/targets_nov_2015.npy', targets=True)"
   ]
  },
  {
   "cell_type": "code",
   "execution_count": 21,
   "metadata": {},
   "outputs": [],
   "source": [
    "# all of november\n",
    "# wald test coeffs = 0 \n",
    "# x's and z's ranked globally\n",
    "nov = waldtest.hours(features_nov_2015, targets_nov_2015, 2015, 11, 2, 9, 25)\n",
    "new_features_nov = nov[0]\n",
    "features_hour_nov = nov[1]\n",
    "targets_hour_nov = nov[2]\n",
    "nov_0 = waldtest.wald_0(new_features_nov, features_hour_nov, targets_hour_nov)"
   ]
  },
  {
   "cell_type": "code",
   "execution_count": 22,
   "metadata": {},
   "outputs": [
    {
     "data": {
      "text/plain": [
       "{'x8': 222,\n",
       " 'x7': 446,\n",
       " 'x6': 514,\n",
       " 'x5': 1155,\n",
       " 'x23': 1073,\n",
       " 'x34': 937,\n",
       " 'x33': 1437,\n",
       " 'x3': 1173,\n",
       " 'x24': 2125,\n",
       " 'x32': 1923,\n",
       " 'x2': 1733,\n",
       " 'x1': 2241,\n",
       " 'x16': 2769,\n",
       " 'x10': 2480,\n",
       " 'x27': 2906,\n",
       " 'x20': 1998,\n",
       " 'x14': 3298,\n",
       " 'x13': 2628,\n",
       " 'x22': 2285,\n",
       " 'x19': 1626,\n",
       " 'x21': 1908,\n",
       " 'x18': 2334,\n",
       " 'x11': 3536,\n",
       " 'x12': 2619,\n",
       " 'x26': 3429,\n",
       " 'x15': 3104,\n",
       " 'x25': 3749,\n",
       " 'x29': 3808,\n",
       " 'x17': 3175,\n",
       " 'x9': 3764,\n",
       " 'x28': 4019,\n",
       " 'x4': 4126,\n",
       " 'x31': 4429,\n",
       " 'x30': 4467}"
      ]
     },
     "execution_count": 22,
     "metadata": {},
     "output_type": "execute_result"
    }
   ],
   "source": [
    "ranked_nov0_x = nov_0[2]\n",
    "ranked_nov0_x"
   ]
  },
  {
   "cell_type": "code",
   "execution_count": 23,
   "metadata": {},
   "outputs": [
    {
     "data": {
      "text/plain": [
       "{'z8': 5593,\n",
       " 'z9': 7092,\n",
       " 'z5': 6279,\n",
       " 'z10': 6239,\n",
       " 'z4': 7131,\n",
       " 'z3': 6327,\n",
       " 'z6': 7029,\n",
       " 'z1': 6671,\n",
       " 'z7': 6630,\n",
       " 'z12': 9044,\n",
       " 'z11': 5703,\n",
       " 'z2': 9698}"
      ]
     },
     "execution_count": 23,
     "metadata": {},
     "output_type": "execute_result"
    }
   ],
   "source": [
    "ranked_nov0_z = nov_0[3]\n",
    "ranked_nov0_z"
   ]
  },
  {
   "cell_type": "markdown",
   "metadata": {},
   "source": [
    "# December"
   ]
  },
  {
   "cell_type": "code",
   "execution_count": 24,
   "metadata": {},
   "outputs": [],
   "source": [
    "features_dec_2015 = pp.read_npy1('/u/project/cratsch/tescala/features_dec_2015.npy', features=True)\n",
    "\n",
    "targets_dec_2015 = pp.read_npy1('/u/project/cratsch/tescala/targets_dec_2015.npy', targets=True)"
   ]
  },
  {
   "cell_type": "code",
   "execution_count": 25,
   "metadata": {},
   "outputs": [],
   "source": [
    "# all of december\n",
    "# wald test coeffs = 0 \n",
    "# x's and z's ranked globally\n",
    "dec = waldtest.hours(features_dec_2015, targets_dec_2015, 2015, 12, 1, 9, 24)\n",
    "new_features_dec = dec[0]\n",
    "features_hour_dec = dec[1]\n",
    "targets_hour_dec = dec[2]\n",
    "dec_0 = waldtest.wald_0(new_features_dec, features_hour_dec, targets_hour_dec)"
   ]
  },
  {
   "cell_type": "code",
   "execution_count": 26,
   "metadata": {},
   "outputs": [
    {
     "data": {
      "text/plain": [
       "{'x8': 146,\n",
       " 'x7': 387,\n",
       " 'x6': 464,\n",
       " 'x3': 995,\n",
       " 'x34': 1157,\n",
       " 'x5': 1394,\n",
       " 'x20': 1265,\n",
       " 'x18': 1856,\n",
       " 'x23': 1212,\n",
       " 'x33': 1931,\n",
       " 'x2': 1965,\n",
       " 'x32': 2095,\n",
       " 'x21': 2390,\n",
       " 'x1': 2272,\n",
       " 'x10': 2387,\n",
       " 'x22': 2383,\n",
       " 'x13': 2509,\n",
       " 'x19': 1854,\n",
       " 'x24': 2310,\n",
       " 'x17': 2479,\n",
       " 'x16': 2510,\n",
       " 'x15': 2813,\n",
       " 'x12': 2434,\n",
       " 'x4': 3220,\n",
       " 'x27': 3487,\n",
       " 'x11': 3575,\n",
       " 'x14': 3710,\n",
       " 'x9': 3882,\n",
       " 'x29': 3770,\n",
       " 'x26': 3824,\n",
       " 'x25': 3871,\n",
       " 'x30': 4155,\n",
       " 'x28': 4275,\n",
       " 'x31': 4459}"
      ]
     },
     "execution_count": 26,
     "metadata": {},
     "output_type": "execute_result"
    }
   ],
   "source": [
    "ranked_dec0_x = dec_0[2]\n",
    "ranked_dec0_x"
   ]
  },
  {
   "cell_type": "code",
   "execution_count": 27,
   "metadata": {},
   "outputs": [
    {
     "data": {
      "text/plain": [
       "{'z8': 4843,\n",
       " 'z9': 6442,\n",
       " 'z10': 6683,\n",
       " 'z5': 6610,\n",
       " 'z7': 6008,\n",
       " 'z6': 6734,\n",
       " 'z4': 7267,\n",
       " 'z11': 7557,\n",
       " 'z1': 8003,\n",
       " 'z3': 5954,\n",
       " 'z12': 9956,\n",
       " 'z2': 7379}"
      ]
     },
     "execution_count": 27,
     "metadata": {},
     "output_type": "execute_result"
    }
   ],
   "source": [
    "ranked_dec0_z = dec_0[3]\n",
    "ranked_dec0_z"
   ]
  },
  {
   "cell_type": "code",
   "execution_count": null,
   "metadata": {},
   "outputs": [],
   "source": []
  }
 ],
 "metadata": {
  "kernelspec": {
   "display_name": "Python 3",
   "language": "python",
   "name": "python3"
  },
  "language_info": {
   "codemirror_mode": {
    "name": "ipython",
    "version": 3
   },
   "file_extension": ".py",
   "mimetype": "text/x-python",
   "name": "python",
   "nbconvert_exporter": "python",
   "pygments_lexer": "ipython3",
   "version": "3.8.5"
  }
 },
 "nbformat": 4,
 "nbformat_minor": 4
}
