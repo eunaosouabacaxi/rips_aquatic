{
 "cells": [
  {
   "cell_type": "code",
   "execution_count": 18,
   "metadata": {},
   "outputs": [],
   "source": [
    "import pandas as pd\n",
    "import numpy as np\n",
    "import preprocess as pp\n",
    "import matplotlib.pyplot as plt\n",
    "import datetime\n",
    "from sklearn.linear_model import LinearRegression\n",
    "from sklearn.decomposition import PCA\n",
    "from sklearn.metrics import r2_score\n",
    "import eda\n",
    "import statsmodels.api as sm"
   ]
  },
  {
   "cell_type": "code",
   "execution_count": 2,
   "metadata": {},
   "outputs": [],
   "source": [
    "def wls_results_wald(feature_df, target_df, x=None, z=None, y='y2'):\n",
    "\n",
    "    q1 = feature_df[z].quantile(.25)\n",
    "    q2 = feature_df[z].quantile(.5)\n",
    "    q3 = feature_df[z].quantile(.75)\n",
    "    \n",
    "    I_q2 = np.where((feature_df[z] >= q1) & (feature_df[z] < q2), 1, 0)\n",
    "    I_q3 = np.where((feature_df[z] >= q2) & (feature_df[z] < q3), 1, 0)\n",
    "    I_q4 = np.where(feature_df[z] >= q3, 1, 0)\n",
    "    \n",
    "    x_ = np.array(feature_df[x]).reshape(-1,1)\n",
    "    z_ = np.array(feature_df[z]).reshape(-1,1)\n",
    "    \n",
    "    x_z_q2 = I_q2.reshape(-1,1) * x_ * z_\n",
    "    x_z_q3 = I_q3.reshape(-1,1) * x_ * z_\n",
    "    x_z_q4 = I_q4.reshape(-1,1) * x_ * z_\n",
    "\n",
    "    bias = np.ones(x_.shape)\n",
    "    \n",
    "    x__ = np.concatenate((bias, x_, x_z_q2, x_z_q3, x_z_q4), axis=1)\n",
    "    y_ = target_df[y]\n",
    "    weights = np.array(feature_df['weights']).reshape(-1,1)\n",
    "\n",
    "    results = sm.WLS(y_, x__, weights=weights).fit()\n",
    "    w = results.wald_test(np.eye(len(results.params))[2:5])\n",
    "    f = w.fvalue\n",
    "    p = w.pvalue\n",
    "    \n",
    "    return f, p"
   ]
  },
  {
   "cell_type": "code",
   "execution_count": 3,
   "metadata": {},
   "outputs": [],
   "source": [
    "def ranked_from_wald0(features, targets):\n",
    "    z_list = features.loc[:,'z1':'z12'].columns\n",
    "    x_list = features.loc[:,'x1':'x34'].columns\n",
    "\n",
    "    f_list = []\n",
    "    p_list = []\n",
    "    for z in z_list:\n",
    "        flist = []\n",
    "        plist = []\n",
    "        for feat in x_list:\n",
    "            f0, p0 = wls_results_wald(features, targets, x=feat, z=z)\n",
    "            flist.append(f0)\n",
    "            plist.append(p0)\n",
    "\n",
    "        f_list.append(flist)\n",
    "        p_list.append(plist)\n",
    "    \n",
    "    f_dict = {'z1':f_list[0], 'z2':f_list[1], 'z3':f_list[2], 'z4':f_list[3],\n",
    "              'z5':f_list[4], 'z6':f_list[5], 'z7':f_list[6], 'z8':f_list[7],\n",
    "              'z9':f_list[8], 'z10':f_list[9], 'z11':f_list[10], 'z12':f_list[11]}\n",
    "\n",
    "    f_df = pd.DataFrame.from_dict(f_dict, orient='index',\n",
    "                           columns=x_list)\n",
    "\n",
    "    p_dict = {'z1':p_list[0], 'z2':p_list[1], 'z3':p_list[2], 'z4':p_list[3],\n",
    "              'z5':p_list[4], 'z6':p_list[5], 'z7':p_list[6], 'z8':p_list[7],\n",
    "              'z9':p_list[8], 'z10':p_list[9], 'z11':p_list[10], 'z12':p_list[11]}\n",
    "\n",
    "    p_df = pd.DataFrame.from_dict(p_dict, orient='index',\n",
    "                           columns=x_list)\n",
    "    \n",
    "     \n",
    "    p_list = []\n",
    "    for col in p_df.columns:\n",
    "        for idx in p_df.index:\n",
    "            val = p_df.loc[idx, col]\n",
    "            p_list.append(((col, idx), val))\n",
    "    \n",
    "    # ranked pairs with pvals\n",
    "    ranked_p = eda.sort_scores1(p_list)\n",
    "   \n",
    "    return ranked_p[:10]"
   ]
  },
  {
   "cell_type": "code",
   "execution_count": 4,
   "metadata": {},
   "outputs": [],
   "source": [
    "def normalize_and_fill(df):\n",
    "    mean = df.loc[:,'x1':'z12'].mean()\n",
    "    std = df.loc[:,'x1':'z12'].std()\n",
    "    df.loc[:,'x1':'z12'] = (df.loc[:,'x1':'z12'] - mean)/std\n",
    "    \n",
    "    df = df.fillna(0)\n",
    "    \n",
    "    return df, mean, std"
   ]
  },
  {
   "cell_type": "code",
   "execution_count": 5,
   "metadata": {},
   "outputs": [],
   "source": [
    "def train_and_test(features_df, targets_df, year=None, \n",
    "                   train_month_start=None, train_day_start=None,\n",
    "                   train_month_end=None, train_day_end=None,\n",
    "                   test_month_start=None, test_day_start=None,\n",
    "                   test_month_end=None, test_day_end=None):\n",
    "    \n",
    "    train_features = features_df.loc[(features_df['datetime'].dt.date >= datetime.date(year, train_month_start, train_day_start))\n",
    "                                    & (features_df['datetime'].dt.date <= datetime.date(year, train_month_end, train_day_end))]\n",
    "    train_targets = targets_df.loc[(targets_df['datetime'].dt.date >= datetime.date(year, train_month_start, train_day_start))\n",
    "                                    & (targets_df['datetime'].dt.date <= datetime.date(year, train_month_end, train_day_end))]\n",
    "    \n",
    "    test_features = features_df.loc[(features_df['datetime'].dt.date >= datetime.date(year, test_month_start, test_day_start))\n",
    "                                    & (features_df['datetime'].dt.date <= datetime.date(year, test_month_end, test_day_end))]\n",
    "    test_targets = targets_df.loc[(targets_df['datetime'].dt.date >= datetime.date(year, test_month_start, test_day_start))\n",
    "                                    & (targets_df['datetime'].dt.date <= datetime.date(year, test_month_end, test_day_end))]\n",
    "    \n",
    "    return train_features, train_targets, test_features, test_targets"
   ]
  },
  {
   "cell_type": "code",
   "execution_count": 6,
   "metadata": {},
   "outputs": [],
   "source": [
    "def selection(train_features, train_targets, test_features, test_targets):\n",
    "    \n",
    "    z_list = train_features.loc[:,'z1':'z12'].columns\n",
    "    x_list = train_features.loc[:,'x1':'x34'].columns\n",
    "    \n",
    "    train_features, mean, std = normalize_and_fill(train_features)\n",
    "    test_features.loc[:,'x1':] = (test_features.loc[:,'x1':]-mean)/std\n",
    "    test_features = test_features.fillna(0)\n",
    "    \n",
    "    ranked_p = ranked_from_wald0(train_features, train_targets)\n",
    "    \n",
    "    pairs_list_train_top = []\n",
    "    pairs_list_test_top = []\n",
    "    for pair in ranked_p:\n",
    "        print(pair)\n",
    "        x = pair[0][0]\n",
    "        z = pair[0][1]\n",
    "        x_col_train = np.array(train_features[x]).reshape(-1,1)\n",
    "        z_col_train = np.array(train_features[z]).reshape(-1,1)\n",
    "        x_z_train = x_col_train * z_col_train\n",
    "        pairs_list_train_top.append(x_z_train)\n",
    "        x_col_test = np.array(test_features[x]).reshape(-1,1)\n",
    "        z_col_test = np.array(test_features[z]).reshape(-1,1)\n",
    "        x_z_test = x_col_test * z_col_test\n",
    "        pairs_list_test_top.append(x_z_test)\n",
    "        \n",
    "    pairs_list_train_all = []\n",
    "    pairs_list_test_all = []\n",
    "    for x in x_list:\n",
    "        x_col_train = np.array(train_features[x]).reshape(-1,1)\n",
    "        x_col_test = np.array(test_features[x]).reshape(-1,1)\n",
    "        pairs_list_train_all.append(x_col_train)\n",
    "        pairs_list_test_all.append(x_col_test)\n",
    "        for z in z_list:\n",
    "            z_col_train = np.array(train_features[z]).reshape(-1,1)\n",
    "            x_z_train = x_col_train * z_col_train\n",
    "            pairs_list_train_all.append(x_z_train)\n",
    "            z_col_test = np.array(test_features[z]).reshape(-1,1)\n",
    "            x_z_test = x_col_test * z_col_test\n",
    "            pairs_list_test_all.append(x_z_test)\n",
    "        \n",
    "    train_features_all = np.concatenate(pairs_list_train_all, axis=1)\n",
    "    test_features_all = np.concatenate(pairs_list_test_all, axis=1)\n",
    "    train_features_top = np.concatenate(pairs_list_train_top, axis=1)\n",
    "    test_features_top = np.concatenate(pairs_list_test_top, axis=1)\n",
    "    \n",
    "    return train_features_all, test_features_all, train_features_top, test_features_top"
   ]
  },
  {
   "cell_type": "code",
   "execution_count": 19,
   "metadata": {},
   "outputs": [],
   "source": [
    "def cov_and_r2(train_features_all, train_features_top, train_targets, test_features_all, test_features_top, test_targets):\n",
    "    \n",
    "    pca = PCA(n_components=10)\n",
    "    pca.fit(train_features_all)\n",
    "    train_features_pca = pca.transform(train_features_all)\n",
    "    test_features_pca = pca.transform(test_features_all)\n",
    "    \n",
    "    lr_all = LinearRegression().fit(train_features_all, np.array(train_targets['y2']).reshape(-1,1))\n",
    "    lr_top = LinearRegression().fit(train_features_top, np.array(train_targets['y2']).reshape(-1,1))\n",
    "    lr_pca = LinearRegression().fit(train_features_pca, np.array(train_targets['y2']).reshape(-1,1))\n",
    "    \n",
    "    pred_all = np.array(lr_all.predict(test_features_all)).reshape(-1,)\n",
    "    pred_top = np.array(lr_top.predict(test_features_top)).reshape(-1,)\n",
    "    pred_pca = np.array(lr_pca.predict(test_features_pca)).reshape(-1,)\n",
    "    \n",
    "    x = np.stack((pred_all, pred_top, pred_pca), axis=0)\n",
    "    cov = np.cov(x)\n",
    "    \n",
    "    print('R2 from all features')\n",
    "    print(r2_score(np.array(test_targets['y2']).reshape(-1,1), pred_all))\n",
    "    print('R2 from top features')\n",
    "    print(r2_score(np.array(test_targets['y2']).reshape(-1,1), pred_top))\n",
    "    print('R2 from pca features')\n",
    "    print(r2_score(np.array(test_targets['y2']).reshape(-1,1), pred_pca))\n",
    "    \n",
    "    return cov"
   ]
  },
  {
   "cell_type": "code",
   "execution_count": 8,
   "metadata": {},
   "outputs": [],
   "source": [
    "jan_features = pp.read_npy1('/u/project/cratsch/tescala/month_split_right/features_jan_2015.npy', features=True)\n",
    "jan_targets = pp.read_npy1('/u/project/cratsch/tescala/month_split_right/targets_jan_2015.npy', targets=True)\n",
    "\n",
    "feb_features = pp.read_npy1('/u/project/cratsch/tescala/month_split_right/features_feb_2015.npy', features=True)\n",
    "feb_targets = pp.read_npy1('/u/project/cratsch/tescala/month_split_right/targets_feb_2015.npy', targets=True)\n",
    "\n",
    "mar_features = pp.read_npy1('/u/project/cratsch/tescala/month_split_right/features_mar_2015.npy', features=True)\n",
    "mar_targets = pp.read_npy1('/u/project/cratsch/tescala/month_split_right/targets_mar_2015.npy', targets=True)\n",
    "\n",
    "z_list = ['z2', 'z3', 'z4', 'z5', 'z6', 'z7', 'z8', 'z9', 'z10', 'z11', 'z12']\n",
    "\n",
    "new_jan_features = jan_features.loc[:, 'datetime':'z1']\n",
    "for z in z_list:\n",
    "    new_jan_features[z] = jan_features[z]\n",
    "    \n",
    "new_feb_features = feb_features.loc[:, 'datetime':'z1']\n",
    "for z in z_list:\n",
    "    new_feb_features[z] = feb_features[z]\n",
    "    \n",
    "new_mar_features = mar_features.loc[:, 'datetime':'z1']\n",
    "for z in z_list:\n",
    "    new_mar_features[z] = mar_features[z]\n",
    "    \n",
    "comb_features = pd.concat([new_jan_features, new_feb_features, new_mar_features], ignore_index=True)\n",
    "comb_targets = pd.concat([jan_targets, feb_targets, mar_targets], ignore_index=True)"
   ]
  },
  {
   "cell_type": "code",
   "execution_count": 9,
   "metadata": {},
   "outputs": [],
   "source": [
    "train_features, train_targets, test_features, test_targets = train_and_test(comb_features, comb_targets, year=2015, \n",
    "                   train_month_start=1, train_day_start=5,\n",
    "                   train_month_end=1, train_day_end=30,\n",
    "                   test_month_start=2, test_day_start=2,\n",
    "                   test_month_end=2, test_day_end=6)"
   ]
  },
  {
   "cell_type": "code",
   "execution_count": 10,
   "metadata": {},
   "outputs": [
    {
     "name": "stderr",
     "output_type": "stream",
     "text": [
      "/u/local/apps/anaconda3/2020.11/lib/python3.8/site-packages/pandas/core/indexing.py:1717: SettingWithCopyWarning: \n",
      "A value is trying to be set on a copy of a slice from a DataFrame.\n",
      "Try using .loc[row_indexer,col_indexer] = value instead\n",
      "\n",
      "See the caveats in the documentation: https://pandas.pydata.org/pandas-docs/stable/user_guide/indexing.html#returning-a-view-versus-a-copy\n",
      "  isetter(loc, v)\n"
     ]
    },
    {
     "name": "stdout",
     "output_type": "stream",
     "text": [
      "(('x32', 'z7'), array(2.39009491e-175))\n",
      "(('x7', 'z8'), array(2.21796921e-151))\n",
      "(('x33', 'z7'), array(1.79383485e-144))\n",
      "(('x2', 'z8'), array(5.42365083e-132))\n",
      "(('x8', 'z8'), array(2.26152532e-130))\n",
      "(('x8', 'z4'), array(1.42159615e-129))\n",
      "(('x3', 'z8'), array(3.16501336e-121))\n",
      "(('x6', 'z8'), array(5.21929203e-111))\n",
      "(('x34', 'z7'), array(3.63948426e-110))\n",
      "(('x5', 'z7'), array(1.27055987e-85))\n"
     ]
    }
   ],
   "source": [
    "train_features_all, test_features_all, train_features_top, test_features_top = selection(train_features, train_targets, test_features, test_targets)"
   ]
  },
  {
   "cell_type": "code",
   "execution_count": 20,
   "metadata": {},
   "outputs": [
    {
     "name": "stdout",
     "output_type": "stream",
     "text": [
      "R2 from all features\n",
      "0.002191605368637828\n",
      "R2 from top features\n",
      "0.0006632985064024544\n",
      "R2 from pca features\n",
      "0.00038912384064382355\n"
     ]
    },
    {
     "data": {
      "text/plain": [
       "array([[2.69763101e-08, 5.58738119e-09, 2.48342888e-09],\n",
       "       [5.58738119e-09, 5.90822340e-09, 2.02258017e-09],\n",
       "       [2.48342888e-09, 2.02258017e-09, 2.86853786e-09]])"
      ]
     },
     "execution_count": 20,
     "metadata": {},
     "output_type": "execute_result"
    }
   ],
   "source": [
    "cov = cov_and_r2(train_features_all, train_features_top, train_targets, test_features_all, test_features_top, test_targets)\n",
    "cov"
   ]
  },
  {
   "cell_type": "code",
   "execution_count": 23,
   "metadata": {},
   "outputs": [
    {
     "data": {
      "text/html": [
       "<div>\n",
       "<style scoped>\n",
       "    .dataframe tbody tr th:only-of-type {\n",
       "        vertical-align: middle;\n",
       "    }\n",
       "\n",
       "    .dataframe tbody tr th {\n",
       "        vertical-align: top;\n",
       "    }\n",
       "\n",
       "    .dataframe thead th {\n",
       "        text-align: right;\n",
       "    }\n",
       "</style>\n",
       "<table border=\"1\" class=\"dataframe\">\n",
       "  <thead>\n",
       "    <tr style=\"text-align: right;\">\n",
       "      <th></th>\n",
       "      <th>0</th>\n",
       "      <th>1</th>\n",
       "    </tr>\n",
       "  </thead>\n",
       "  <tbody>\n",
       "    <tr>\n",
       "      <th>0</th>\n",
       "      <td>x1</td>\n",
       "      <td>z1</td>\n",
       "    </tr>\n",
       "    <tr>\n",
       "      <th>1</th>\n",
       "      <td>x3</td>\n",
       "      <td>z5</td>\n",
       "    </tr>\n",
       "  </tbody>\n",
       "</table>\n",
       "</div>"
      ],
      "text/plain": [
       "    0   1\n",
       "0  x1  z1\n",
       "1  x3  z5"
      ]
     },
     "execution_count": 23,
     "metadata": {},
     "output_type": "execute_result"
    }
   ],
   "source": [
    "pd.DataFrame(np.array([('x1', 'z1'), ('x3', 'z5')]))"
   ]
  },
  {
   "cell_type": "code",
   "execution_count": null,
   "metadata": {},
   "outputs": [],
   "source": []
  }
 ],
 "metadata": {
  "kernelspec": {
   "display_name": "Python 3",
   "language": "python",
   "name": "python3"
  },
  "language_info": {
   "codemirror_mode": {
    "name": "ipython",
    "version": 3
   },
   "file_extension": ".py",
   "mimetype": "text/x-python",
   "name": "python",
   "nbconvert_exporter": "python",
   "pygments_lexer": "ipython3",
   "version": "3.8.5"
  }
 },
 "nbformat": 4,
 "nbformat_minor": 2
}
