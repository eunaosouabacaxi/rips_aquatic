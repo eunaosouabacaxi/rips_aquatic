{
 "cells": [
  {
   "cell_type": "code",
   "execution_count": 1,
   "metadata": {},
   "outputs": [],
   "source": [
    "import pandas as pd\n",
    "import numpy as np\n",
    "import preprocess as pp\n",
    "import matplotlib.pyplot as plt\n",
    "import datetime\n",
    "from sklearn.linear_model import LinearRegression\n",
    "import eda\n",
    "import statsmodels.api as sm"
   ]
  },
  {
   "cell_type": "code",
   "execution_count": 12,
   "metadata": {},
   "outputs": [],
   "source": [
    "def wls_results_wald(feature_df, target_df, x=None, z=None, y='y2'):\n",
    "\n",
    "    q1 = feature_df[z].quantile(.25)\n",
    "    q2 = feature_df[z].quantile(.5)\n",
    "    q3 = feature_df[z].quantile(.75)\n",
    "    \n",
    "    I_q2 = np.where((feature_df[z] >= q1) & (feature_df[z] < q2), 1, 0)\n",
    "    I_q3 = np.where((feature_df[z] >= q2) & (feature_df[z] < q3), 1, 0)\n",
    "    I_q4 = np.where(feature_df[z] >= q3, 1, 0)\n",
    "    \n",
    "    x_ = np.array(feature_df[x]).reshape(-1,1)\n",
    "    z_ = np.array(feature_df[z]).reshape(-1,1)\n",
    "    \n",
    "    x_z_q2 = I_q2.reshape(-1,1) * x_ * z_\n",
    "    x_z_q3 = I_q3.reshape(-1,1) * x_ * z_\n",
    "    x_z_q4 = I_q4.reshape(-1,1) * x_ * z_\n",
    "\n",
    "    bias = np.ones(x_.shape)\n",
    "    \n",
    "    x__ = np.concatenate((bias, x_, x_z_q2, x_z_q3, x_z_q4), axis=1)\n",
    "    y_ = target_df[y]\n",
    "    weights = np.array(feature_df['weights']).reshape(-1,1)\n",
    "\n",
    "    results = sm.WLS(y_, x__).fit()\n",
    "    m = results.summary()\n",
    "    f = m.fvalue\n",
    "    p = m.pvalue\n",
    "    \n",
    "    return f, p"
   ]
  },
  {
   "cell_type": "code",
   "execution_count": 3,
   "metadata": {},
   "outputs": [],
   "source": [
    "def ranked_from_wald0(features, targets):\n",
    "    z_list = features.loc[:,'z1':'z12'].columns\n",
    "    x_list = features.loc[:,'x1':'x34'].columns\n",
    "\n",
    "    f_list = []\n",
    "    p_list = []\n",
    "    for z in z_list:\n",
    "        flist = []\n",
    "        plist = []\n",
    "        for feat in x_list:\n",
    "            f0, p0 = wls_results_wald(features, targets, x=feat, z=z)\n",
    "            flist.append(f0)\n",
    "            plist.append(p0)\n",
    "\n",
    "        f_list.append(flist)\n",
    "        p_list.append(plist)\n",
    "    \n",
    "    f_dict = {'z1':f_list[0], 'z2':f_list[1], 'z3':f_list[2], 'z4':f_list[3],\n",
    "              'z5':f_list[4], 'z6':f_list[5], 'z7':f_list[6], 'z8':f_list[7],\n",
    "              'z9':f_list[8], 'z10':f_list[9], 'z11':f_list[10], 'z12':f_list[11]}\n",
    "\n",
    "    f_df = pd.DataFrame.from_dict(f_dict, orient='index',\n",
    "                           columns=x_list)\n",
    "\n",
    "    p_dict = {'z1':p_list[0], 'z2':p_list[1], 'z3':p_list[2], 'z4':p_list[3],\n",
    "              'z5':p_list[4], 'z6':p_list[5], 'z7':p_list[6], 'z8':p_list[7],\n",
    "              'z9':p_list[8], 'z10':p_list[9], 'z11':p_list[10], 'z12':p_list[11]}\n",
    "\n",
    "    p_df = pd.DataFrame.from_dict(p_dict, orient='index',\n",
    "                           columns=x_list)\n",
    "    \n",
    "     \n",
    "    p_list = []\n",
    "    for col in p_df.columns:\n",
    "        for idx in p_df.index:\n",
    "            val = p_df.loc[idx, col]\n",
    "            p_list.append(((col, idx), val))\n",
    "    \n",
    "    # ranked pairs with pvals\n",
    "    ranked_p = eda.sort_scores1(p_list)\n",
    "   \n",
    "    return ranked_p[:10]"
   ]
  },
  {
   "cell_type": "code",
   "execution_count": 4,
   "metadata": {},
   "outputs": [],
   "source": [
    "def normalize_and_fill(df):\n",
    "    mean = df.loc[:,'x1':'z12'].mean()\n",
    "    std = df.loc[:,'x1':'z12'].std()\n",
    "    df.loc[:,'x1':'z12'] = (df.loc[:,'x1':'z12'] - mean)/std\n",
    "    \n",
    "    df = df.fillna(0)\n",
    "    \n",
    "    return df, mean, std"
   ]
  },
  {
   "cell_type": "code",
   "execution_count": 5,
   "metadata": {},
   "outputs": [],
   "source": [
    "def train_and_test(features_df, targets_df, year=None, \n",
    "                   train_month_start=None, train_day_start=None,\n",
    "                   train_month_end=None, train_day_end=None,\n",
    "                   test_month_start=None, test_day_start=None,\n",
    "                   test_month_end=None, test_day_end=None):\n",
    "    \n",
    "    train_features = features_df.loc[(features_df['datetime'].dt.date >= datetime.date(year, train_month_start, train_day_start))\n",
    "                                    & (features_df['datetime'].dt.date <= datetime.date(year, train_month_end, train_day_end))]\n",
    "    train_targets = targets_df.loc[(targets_df['datetime'].dt.date >= datetime.date(year, train_month_start, train_day_start))\n",
    "                                    & (targets_df['datetime'].dt.date <= datetime.date(year, train_month_end, train_day_end))]\n",
    "    \n",
    "    test_features = features_df.loc[(features_df['datetime'].dt.date >= datetime.date(year, test_month_start, test_day_start))\n",
    "                                    & (features_df['datetime'].dt.date <= datetime.date(year, test_month_end, test_day_end))]\n",
    "    test_targets = targets_df.loc[(targets_df['datetime'].dt.date >= datetime.date(year, test_month_start, test_day_start))\n",
    "                                    & (targets_df['datetime'].dt.date <= datetime.date(year, test_month_end, test_day_end))]\n",
    "    \n",
    "    return train_features, train_targets, test_features, test_targets"
   ]
  },
  {
   "cell_type": "code",
   "execution_count": 6,
   "metadata": {},
   "outputs": [],
   "source": [
    "def selection_and_prediction(train_features, train_targets, test_features, test_targets):\n",
    "    \n",
    "    train_features, mean, std = normalize_and_fill(train_features)\n",
    "    test_features.loc[:,'x1':] = (test_features.loc[:,'x1':]-mean)/std\n",
    "    \n",
    "    ranked_p = ranked_from_wald0(train_features, train_targets)\n",
    "    \n",
    "    pairs_list_train = []\n",
    "    pairs_list_test = []\n",
    "    for pair in ranked_p:\n",
    "        print(pair)\n",
    "        #x = pair[0][0]\n",
    "        #z = pair[0][1]\n",
    "        #x_col_train = np.array(train_features[x]).reshape(-1,1)\n",
    "        #z_col_train = np.array(train_features[z]).reshape(-1,1)\n",
    "        #x_z_train = x_col_train * z_col_train\n",
    "        #pairs_list_train.append(x_z_train)\n",
    "        #x_col_test = np.array(test_features[x]).reshape(-1,1)\n",
    "        #z_col_test = np.array(test_features[z]).reshape(-1,1)\n",
    "        #x_z_test = x_col_test * z_col_test\n",
    "        #pairs_list_test.append(x_z_test)\n",
    "        \n",
    "    #train_features_top = np.concatenate(pairs_list_test, axis=1)"
   ]
  },
  {
   "cell_type": "code",
   "execution_count": 7,
   "metadata": {},
   "outputs": [],
   "source": [
    "jan_features = pp.read_npy1('/u/project/cratsch/tescala/month_split_right/features_jan_2015.npy', features=True)\n",
    "jan_targets = pp.read_npy1('/u/project/cratsch/tescala/month_split_right/targets_jan_2015.npy', targets=True)\n",
    "\n",
    "feb_features = pp.read_npy1('/u/project/cratsch/tescala/month_split_right/features_feb_2015.npy', features=True)\n",
    "feb_targets = pp.read_npy1('/u/project/cratsch/tescala/month_split_right/targets_feb_2015.npy', targets=True)\n",
    "\n",
    "mar_features = pp.read_npy1('/u/project/cratsch/tescala/month_split_right/features_mar_2015.npy', features=True)\n",
    "mar_targets = pp.read_npy1('/u/project/cratsch/tescala/month_split_right/targets_mar_2015.npy', targets=True)\n",
    "\n",
    "z_list = ['z2', 'z3', 'z4', 'z5', 'z6', 'z7', 'z8', 'z9', 'z10', 'z11', 'z12']\n",
    "\n",
    "new_jan_features = jan_features.loc[:, 'datetime':'z1']\n",
    "for z in z_list:\n",
    "    new_jan_features[z] = jan_features[z]\n",
    "    \n",
    "new_feb_features = feb_features.loc[:, 'datetime':'z1']\n",
    "for z in z_list:\n",
    "    new_feb_features[z] = feb_features[z]\n",
    "    \n",
    "new_mar_features = mar_features.loc[:, 'datetime':'z1']\n",
    "for z in z_list:\n",
    "    new_mar_features[z] = mar_features[z]\n",
    "    \n",
    "comb_features = pd.concat([new_jan_features, new_feb_features, new_mar_features], ignore_index=True)\n",
    "comb_targets = pd.concat([jan_targets, feb_targets, mar_targets], ignore_index=True)"
   ]
  },
  {
   "cell_type": "code",
   "execution_count": 8,
   "metadata": {},
   "outputs": [],
   "source": [
    "train_features, train_targets, test_features, test_targets = train_and_test(comb_features, comb_targets, year=2015, \n",
    "                   train_month_start=1, train_day_start=5,\n",
    "                   train_month_end=1, train_day_end=30,\n",
    "                   test_month_start=2, test_day_start=2,\n",
    "                   test_month_end=2, test_day_end=6)"
   ]
  },
  {
   "cell_type": "code",
   "execution_count": null,
   "metadata": {},
   "outputs": [],
   "source": [
    "selection_and_prediction(train_features, train_targets, test_features, test_targets)"
   ]
  },
  {
   "cell_type": "code",
   "execution_count": null,
   "metadata": {},
   "outputs": [],
   "source": [
    "train_features, mean, std = normalize_and_fill(train_features)\n",
    "test_features.loc[:,'x1':] = (test_features.loc[:,'x1':]-mean)/std\n",
    "\n",
    "wls_results_wald(feature_df, target_df, x=None, z=None, )"
   ]
  }
 ],
 "metadata": {
  "kernelspec": {
   "display_name": "Python 3",
   "language": "python",
   "name": "python3"
  },
  "language_info": {
   "codemirror_mode": {
    "name": "ipython",
    "version": 3
   },
   "file_extension": ".py",
   "mimetype": "text/x-python",
   "name": "python",
   "nbconvert_exporter": "python",
   "pygments_lexer": "ipython3",
   "version": "3.7.3"
  }
 },
 "nbformat": 4,
 "nbformat_minor": 2
}
