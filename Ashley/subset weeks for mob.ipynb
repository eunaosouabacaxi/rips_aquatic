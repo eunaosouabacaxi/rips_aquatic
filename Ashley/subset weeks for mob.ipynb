{
 "cells": [
  {
   "cell_type": "markdown",
   "metadata": {},
   "source": [
    "Subsetting 2015 first full week (m-f) of each month. filled NaN's. only single Z's, no products. "
   ]
  },
  {
   "cell_type": "code",
   "execution_count": 2,
   "metadata": {},
   "outputs": [],
   "source": [
    "import pandas as pd\n",
    "import numpy as np\n",
    "import datetime\n",
    "import preprocess as pp"
   ]
  },
  {
   "cell_type": "code",
   "execution_count": 59,
   "metadata": {},
   "outputs": [],
   "source": [
    "df = pp.read_npy1('/u/project/cratsch/tescala/month_split_right/features_nov_2015.npy',features=True)\n",
    "df_1 = pp.read_npy1('/u/project/cratsch/tescala/month_split_right/targets_nov_2015.npy',targets=True)"
   ]
  },
  {
   "cell_type": "code",
   "execution_count": 64,
   "metadata": {},
   "outputs": [],
   "source": [
    "df = pp.read_npy1('/u/project/cratsch/tescala/month_split_right/features_dec_2015.npy',features=True)\n",
    "df_1 = pp.read_npy1('/u/project/cratsch/tescala/month_split_right/targets_dec_2015.npy',targets=True)"
   ]
  },
  {
   "cell_type": "code",
   "execution_count": 65,
   "metadata": {},
   "outputs": [],
   "source": [
    "df = df.fillna(0)"
   ]
  },
  {
   "cell_type": "code",
   "execution_count": 66,
   "metadata": {},
   "outputs": [],
   "source": [
    "new_features = df.loc[:, 'datetime':'z1']\n",
    "z_list = ['z2', 'z3', 'z4', 'z5', 'z6', 'z7', 'z8', 'z9', 'z10', 'z11', 'z12']\n",
    "for z in z_list:\n",
    "    new_features[z] = df[z]"
   ]
  },
  {
   "cell_type": "code",
   "execution_count": 62,
   "metadata": {},
   "outputs": [],
   "source": [
    "features_hour = new_features.loc[(new_features['datetime'].dt.time >= datetime.time(9,30))\n",
    "                                              & (new_features['datetime'].dt.time < datetime.time(10,40))\n",
    "                                              & (new_features['datetime'].dt.date >= datetime.date(2015,11,2))\n",
    "                                              & (new_features['datetime'].dt.date < datetime.date(2015,11,7))]\n",
    "\n",
    "targets_hour = df_1.loc[(df_1['datetime'].dt.time >= datetime.time(9,30))\n",
    "                                        & (df_1['datetime'].dt.time < datetime.time(10,40))\n",
    "                                        & (df_1['datetime'].dt.date >= datetime.date(2015,11,2))\n",
    "                                        & (df_1['datetime'].dt.date < datetime.date(2015,11,7))]"
   ]
  },
  {
   "cell_type": "code",
   "execution_count": 67,
   "metadata": {},
   "outputs": [],
   "source": [
    "features_hour = new_features.loc[(new_features['datetime'].dt.time >= datetime.time(9,30))\n",
    "                                              & (new_features['datetime'].dt.time < datetime.time(10,40))\n",
    "                                              & (new_features['datetime'].dt.date >= datetime.date(2015,12,7))\n",
    "                                              & (new_features['datetime'].dt.date < datetime.date(2015,12,12))]\n",
    "\n",
    "targets_hour = df_1.loc[(df_1['datetime'].dt.time >= datetime.time(9,30))\n",
    "                                        & (df_1['datetime'].dt.time < datetime.time(10,40))\n",
    "                                        & (df_1['datetime'].dt.date >= datetime.date(2015,12,7))\n",
    "                                        & (df_1['datetime'].dt.date < datetime.date(2015,12,12))]"
   ]
  },
  {
   "cell_type": "code",
   "execution_count": 63,
   "metadata": {},
   "outputs": [],
   "source": [
    "features_hour.to_csv(\"features_nov_wk1_2015.csv\")\n",
    "targets_hour.to_csv(\"targets_nov_wk1_2015.csv\")"
   ]
  },
  {
   "cell_type": "code",
   "execution_count": 68,
   "metadata": {},
   "outputs": [],
   "source": [
    "features_hour.to_csv(\"features_dec_wk1_2015.csv\")\n",
    "targets_hour.to_csv(\"targets_dec_wk1_2015.csv\")"
   ]
  },
  {
   "cell_type": "code",
   "execution_count": null,
   "metadata": {},
   "outputs": [],
   "source": []
  }
 ],
 "metadata": {
  "kernelspec": {
   "display_name": "Python 3",
   "language": "python",
   "name": "python3"
  },
  "language_info": {
   "codemirror_mode": {
    "name": "ipython",
    "version": 3
   },
   "file_extension": ".py",
   "mimetype": "text/x-python",
   "name": "python",
   "nbconvert_exporter": "python",
   "pygments_lexer": "ipython3",
   "version": "3.8.5"
  }
 },
 "nbformat": 4,
 "nbformat_minor": 4
}
