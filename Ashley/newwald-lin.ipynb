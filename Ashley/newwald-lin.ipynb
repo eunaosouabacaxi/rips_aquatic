{
 "cells": [
  {
   "cell_type": "code",
   "execution_count": 1,
   "metadata": {},
   "outputs": [],
   "source": [
    "import pandas as pd\n",
    "import preprocess as pp\n",
    "import datetime\n",
    "import numpy as np\n",
    "import eda\n",
    "import sklearn\n",
    "from sklearn.linear_model import LinearRegression\n",
    "import statsmodels.api as sm"
   ]
  },
  {
   "cell_type": "code",
   "execution_count": 3,
   "metadata": {},
   "outputs": [],
   "source": [
    "features_jan_2015 = pp.read_npy1('/u/project/cratsch/tescala/month_split_right/features_jan_2015.npy', features=True)\n",
    "\n",
    "targets_jan_2015 = pp.read_npy1('/u/project/cratsch/tescala/month_split_right/targets_jan_2015.npy', targets=True)"
   ]
  },
  {
   "cell_type": "code",
   "execution_count": 4,
   "metadata": {},
   "outputs": [],
   "source": [
    "new_features_jan_2015 = features_jan_2015.loc[:, 'datetime':'z1']\n",
    "z_list = ['z2', 'z3', 'z4', 'z5', 'z6', 'z7', 'z8', 'z9', 'z10', 'z11', 'z12']\n",
    "for z in z_list:\n",
    "    new_features_jan_2015[z] = features_jan_2015[z]\n",
    "\n",
    "\n",
    "features_hour = new_features_jan_2015.loc[(new_features_jan_2015['datetime'].dt.time >= datetime.time(9,35))\n",
    "                                          & (new_features_jan_2015['datetime'].dt.time < datetime.time(10,40))]\n",
    "                                          #& (new_features_jan_2015['datetime'].dt.date >= datetime.date(2015,3,2))\n",
    "                                          #& (new_features_jan_2015['datetime'].dt.date < datetime.date(2015,3,28))]\n",
    "\n",
    "targets_hour = targets_jan_2015.loc[(targets_jan_2015['datetime'].dt.time >= datetime.time(9,35))\n",
    "                                    & (targets_jan_2015['datetime'].dt.time < datetime.time(10,40))]\n",
    "                                    #& (targets_jan_2015['datetime'].dt.date >= datetime.date(2015,3,2))\n",
    "                                    #& (targets_jan_2015['datetime'].dt.date < datetime.date(2015,3,28))]"
   ]
  },
  {
   "cell_type": "code",
   "execution_count": 2,
   "metadata": {},
   "outputs": [],
   "source": [
    "import waldtest"
   ]
  },
  {
   "cell_type": "code",
   "execution_count": 11,
   "metadata": {
    "scrolled": true
   },
   "outputs": [
    {
     "name": "stdout",
     "output_type": "stream",
     "text": [
      "{'z8': 6536, 'z9': 7034, 'z4': 6471, 'z10': 6710, 'z5': 6803, 'z1': 7104, 'z6': 7149, 'z11': 6627, 'z3': 6726, 'z7': 6748, 'z12': 7020, 'z2': 8508}\n"
     ]
    }
   ],
   "source": [
    "# all of january\n",
    "jan = waldtest.hours(features_jan_2015, targets_jan_2015, 2015, 1, 1, 9, 30)\n",
    "new_features_jan = jan[0]\n",
    "features_hour_jan = jan[1]\n",
    "targets_hour_jan = jan[2]\n",
    "jan_0 = waldtest.wald_0(new_features_jan, features_hour_jan, targets_hour_jan)\n",
    "ranked_jan0 = jan_0[3]\n",
    "print(ranked_jan0)"
   ]
  },
  {
   "cell_type": "code",
   "execution_count": 15,
   "metadata": {},
   "outputs": [
    {
     "data": {
      "text/plain": [
       "{'z8': 6536,\n",
       " 'z9': 7034,\n",
       " 'z4': 6471,\n",
       " 'z10': 6710,\n",
       " 'z5': 6803,\n",
       " 'z1': 7104,\n",
       " 'z6': 7149,\n",
       " 'z11': 6627,\n",
       " 'z3': 6726,\n",
       " 'z7': 6748,\n",
       " 'z12': 7020,\n",
       " 'z2': 8508}"
      ]
     },
     "execution_count": 15,
     "metadata": {},
     "output_type": "execute_result"
    }
   ],
   "source": [
    "ranked_jan0"
   ]
  },
  {
   "cell_type": "code",
   "execution_count": null,
   "metadata": {},
   "outputs": [],
   "source": [
    "ranked_jan_equal"
   ]
  },
  {
   "cell_type": "code",
   "execution_count": 6,
   "metadata": {
    "scrolled": true
   },
   "outputs": [],
   "source": [
    "# jan wk 1\n",
    "# wald test for coeffs = 0 \n",
    "jan = waldtest.hours(features_jan_2015, targets_jan_2015, 2015, 1, 5, 9, 5)\n",
    "new_features_jan = jan[0]\n",
    "features_hour_jan = jan[1]\n",
    "targets_hour_jan = jan[2]\n",
    "jan_pvals = waldtest.wald_0(new_features_jan, features_hour_jan, targets_hour_jan)"
   ]
  },
  {
   "cell_type": "code",
   "execution_count": 9,
   "metadata": {},
   "outputs": [
    {
     "data": {
      "text/plain": [
       "{'x8': 349,\n",
       " 'x7': 730,\n",
       " 'x6': 861,\n",
       " 'x23': 255,\n",
       " 'x15': 672,\n",
       " 'x19': 836,\n",
       " 'x20': 1036,\n",
       " 'x14': 887,\n",
       " 'x5': 1993,\n",
       " 'x34': 2247,\n",
       " 'x3': 2549,\n",
       " 'x17': 1866,\n",
       " 'x25': 2421,\n",
       " 'x16': 2036,\n",
       " 'x26': 2275,\n",
       " 'x33': 3056,\n",
       " 'x11': 3046,\n",
       " 'x18': 2748,\n",
       " 'x31': 3519,\n",
       " 'x2': 2969,\n",
       " 'x1': 3099,\n",
       " 'x32': 3210,\n",
       " 'x10': 3135,\n",
       " 'x13': 3183,\n",
       " 'x22': 3242,\n",
       " 'x21': 3642,\n",
       " 'x4': 3355,\n",
       " 'x12': 2642,\n",
       " 'x28': 2938,\n",
       " 'x27': 3757,\n",
       " 'x9': 3441,\n",
       " 'x29': 4064,\n",
       " 'x24': 3626,\n",
       " 'x30': 3751}"
      ]
     },
     "execution_count": 9,
     "metadata": {},
     "output_type": "execute_result"
    }
   ],
   "source": [
    "ranked_jan1_x = jan_pvals[2]\n",
    "ranked_jan1_x"
   ]
  },
  {
   "cell_type": "code",
   "execution_count": 10,
   "metadata": {},
   "outputs": [
    {
     "data": {
      "text/plain": [
       "{'z8': 6304,\n",
       " 'z5': 6456,\n",
       " 'z9': 6933,\n",
       " 'z10': 7132,\n",
       " 'z7': 8084,\n",
       " 'z3': 6068,\n",
       " 'z6': 8378,\n",
       " 'z11': 5639,\n",
       " 'z1': 7072,\n",
       " 'z4': 6565,\n",
       " 'z12': 7100,\n",
       " 'z2': 7705}"
      ]
     },
     "execution_count": 10,
     "metadata": {},
     "output_type": "execute_result"
    }
   ],
   "source": [
    "ranked_jan1_z = jan_pvals[3]\n",
    "ranked_jan1_z"
   ]
  },
  {
   "cell_type": "code",
   "execution_count": null,
   "metadata": {},
   "outputs": [],
   "source": [
    "# jan wk 1 new way double check results same\n",
    "# wald test for coeffs = 0 \n",
    "\n",
    "f0, p0, f_equal, p_equal = ols_results_wald(new_features_jan_2015, features_hour, targets_hour)\n",
    "ranked_jan1 = jan_pvals[2]\n",
    "ranked_jan1"
   ]
  },
  {
   "cell_type": "code",
   "execution_count": 12,
   "metadata": {},
   "outputs": [
    {
     "data": {
      "text/plain": [
       "{'z8': 5954,\n",
       " 'z9': 6766,\n",
       " 'z4': 6311,\n",
       " 'z10': 7365,\n",
       " 'z6': 6285,\n",
       " 'z3': 6367,\n",
       " 'z7': 5345,\n",
       " 'z1': 7216,\n",
       " 'z11': 8112,\n",
       " 'z5': 6767,\n",
       " 'z12': 8544,\n",
       " 'z2': 8404}"
      ]
     },
     "execution_count": 12,
     "metadata": {},
     "output_type": "execute_result"
    }
   ],
   "source": [
    "# jan wk 2\n",
    "# wald test for coeffs = 0 \n",
    "jan = waldtest.hours(features_jan_2015, targets_jan_2015, 2015, 1, 12, 9, 5)\n",
    "new_features_jan = jan[0]\n",
    "features_hour_jan = jan[1]\n",
    "targets_hour_jan = jan[2]\n",
    "jan_pvals = waldtest.wald_0(new_features_jan, features_hour_jan, targets_hour_jan)\n",
    "ranked_jan2 = jan_pvals[3]\n",
    "ranked_jan2"
   ]
  },
  {
   "cell_type": "code",
   "execution_count": 13,
   "metadata": {},
   "outputs": [
    {
     "data": {
      "text/plain": [
       "{'z8': 6853,\n",
       " 'z9': 6816,\n",
       " 'z5': 6826,\n",
       " 'z4': 4264,\n",
       " 'z11': 4747,\n",
       " 'z10': 7771,\n",
       " 'z7': 8035,\n",
       " 'z1': 7860,\n",
       " 'z6': 7564,\n",
       " 'z12': 7205,\n",
       " 'z3': 6999,\n",
       " 'z2': 8496}"
      ]
     },
     "execution_count": 13,
     "metadata": {},
     "output_type": "execute_result"
    }
   ],
   "source": [
    "# jan wk 3\n",
    "# wald test for coeffs = 0 \n",
    "jan = waldtest.hours(features_jan_2015, targets_jan_2015, 2015, 1, 19, 9, 5)\n",
    "new_features_jan = jan[0]\n",
    "features_hour_jan = jan[1]\n",
    "targets_hour_jan = jan[2]\n",
    "jan_pvals = waldtest.wald_0(new_features_jan, features_hour_jan, targets_hour_jan)\n",
    "ranked_jan3 = jan_pvals[3]\n",
    "ranked_jan3"
   ]
  },
  {
   "cell_type": "code",
   "execution_count": 14,
   "metadata": {},
   "outputs": [
    {
     "data": {
      "text/plain": [
       "{'z8': 5886,\n",
       " 'z4': 6661,\n",
       " 'z9': 6985,\n",
       " 'z5': 6612,\n",
       " 'z10': 5907,\n",
       " 'z3': 6608,\n",
       " 'z6': 7333,\n",
       " 'z11': 5966,\n",
       " 'z7': 6009,\n",
       " 'z1': 7718,\n",
       " 'z12': 8901,\n",
       " 'z2': 8850}"
      ]
     },
     "execution_count": 14,
     "metadata": {},
     "output_type": "execute_result"
    }
   ],
   "source": [
    "# jan wk 4\n",
    "# wald test for coeffs = 0 \n",
    "jan = waldtest.hours(features_jan_2015, targets_jan_2015, 2015, 1, 26, 9, 5)\n",
    "new_features_jan = jan[0]\n",
    "features_hour_jan = jan[1]\n",
    "targets_hour_jan = jan[2]\n",
    "jan_pvals = waldtest.wald_0(new_features_jan, features_hour_jan, targets_hour_jan)\n",
    "ranked_jan4 = jan_pvals[3]\n",
    "ranked_jan4"
   ]
  },
  {
   "cell_type": "code",
   "execution_count": null,
   "metadata": {},
   "outputs": [],
   "source": [
    "# jan wk 1\n",
    "# wald test for equal coeffs\n",
    "jan = waldtest.hours(features_jan_2015, targets_jan_2015, 2015, 1, 5, 9, 5)\n",
    "new_features_jan = jan[0]\n",
    "features_hour_jan = jan[1]\n",
    "targets_hour_jan = jan[2]\n",
    "jan_pvals = waldtest.wald_equal(new_features_jan, features_hour_jan, targets_hour_jan)\n",
    "ranked_jan1 = jan_pvals[1]\n",
    "ranked_jan1"
   ]
  },
  {
   "cell_type": "code",
   "execution_count": null,
   "metadata": {},
   "outputs": [],
   "source": [
    "# jan wk 2\n",
    "# wald test for equal coeffs\n",
    "jan = waldtest.hours(features_jan_2015, targets_jan_2015, 2015, 1, 12, 9, 5)\n",
    "new_features_jan = jan[0]\n",
    "features_hour_jan = jan[1]\n",
    "targets_hour_jan = jan[2]\n",
    "jan_pvals = waldtest.wald_equal(new_features_jan, features_hour_jan, targets_hour_jan)\n",
    "ranked_jan2 = jan_pvals[2]\n",
    "ranked_jan2"
   ]
  },
  {
   "cell_type": "code",
   "execution_count": null,
   "metadata": {},
   "outputs": [],
   "source": [
    "# jan wk 3\n",
    "# wald test for equal coeffs\n",
    "jan = waldtest.hours(features_jan_2015, targets_jan_2015, 2015, 1, 19, 9, 5)\n",
    "new_features_jan = jan[0]\n",
    "features_hour_jan = jan[1]\n",
    "targets_hour_jan = jan[2]\n",
    "jan_pvals = waldtest.wald_equal(new_features_jan, features_hour_jan, targets_hour_jan)\n",
    "ranked_jan3 = jan_pvals[2]\n",
    "ranked_jan3"
   ]
  },
  {
   "cell_type": "code",
   "execution_count": null,
   "metadata": {},
   "outputs": [],
   "source": [
    "# jan wk 4\n",
    "# wald test for equal coeffs\n",
    "jan = waldtest.hours(features_jan_2015, targets_jan_2015, 2015, 1, 26, 9, 5)\n",
    "new_features_jan = jan[0]\n",
    "features_hour_jan = jan[1]\n",
    "targets_hour_jan = jan[2]\n",
    "jan_pvals = waldtest.wald_equal(new_features_jan, features_hour_jan, targets_hour_jan)\n",
    "ranked_jan4 = jan_pvals[2]\n",
    "ranked_jan4"
   ]
  },
  {
   "cell_type": "markdown",
   "metadata": {},
   "source": [
    "# February"
   ]
  },
  {
   "cell_type": "code",
   "execution_count": 3,
   "metadata": {},
   "outputs": [],
   "source": [
    "features_feb_2015 = pp.read_npy1('/u/project/cratsch/tescala/features_feb_2015.npy', features=True)\n",
    "\n",
    "targets_feb_2015 = pp.read_npy1('/u/project/cratsch/tescala/targets_feb_2015.npy', targets=True)"
   ]
  },
  {
   "cell_type": "code",
   "execution_count": 49,
   "metadata": {},
   "outputs": [],
   "source": [
    "# all of february\n",
    "# wald test coeffs b4-b3=b3-b2=b2\n",
    "# x's and z's ranked globally\n",
    "feb = waldtest.hours(features_feb_2015, targets_feb_2015, 2015, 2, 2, 9, 26)\n",
    "new_features_feb = feb[0]\n",
    "features_hour_feb = feb[1]\n",
    "targets_hour_feb = feb[2]\n",
    "feb_lin = waldtest.wald_equal(new_features_feb, features_hour_feb, targets_hour_feb)"
   ]
  },
  {
   "cell_type": "code",
   "execution_count": 50,
   "metadata": {},
   "outputs": [
    {
     "data": {
      "text/plain": [
       "{'x8': 193,\n",
       " 'x7': 296,\n",
       " 'x6': 330,\n",
       " 'x5': 712,\n",
       " 'x23': 1224,\n",
       " 'x3': 2172,\n",
       " 'x2': 1254,\n",
       " 'x1': 1298,\n",
       " 'x33': 1037,\n",
       " 'x10': 1360,\n",
       " 'x32': 1112,\n",
       " 'x13': 1416,\n",
       " 'x11': 1632,\n",
       " 'x27': 1546,\n",
       " 'x34': 1841,\n",
       " 'x12': 3360,\n",
       " 'x18': 2927,\n",
       " 'x4': 2654,\n",
       " 'x24': 2822,\n",
       " 'x26': 3291,\n",
       " 'x19': 2963,\n",
       " 'x15': 3101,\n",
       " 'x16': 3739,\n",
       " 'x14': 3434,\n",
       " 'x21': 3884,\n",
       " 'x20': 3492,\n",
       " 'x29': 3726,\n",
       " 'x25': 3478,\n",
       " 'x22': 3876,\n",
       " 'x17': 3834,\n",
       " 'x30': 3562,\n",
       " 'x9': 3872,\n",
       " 'x28': 3862,\n",
       " 'x31': 4136}"
      ]
     },
     "execution_count": 50,
     "metadata": {},
     "output_type": "execute_result"
    }
   ],
   "source": [
    "ranked_feblin_x = feb_lin[2]\n",
    "ranked_feblin_x"
   ]
  },
  {
   "cell_type": "code",
   "execution_count": 51,
   "metadata": {},
   "outputs": [
    {
     "ename": "IndexError",
     "evalue": "tuple index out of range",
     "output_type": "error",
     "traceback": [
      "\u001b[0;31m\u001b[0m",
      "\u001b[0;31mIndexError\u001b[0mTraceback (most recent call last)",
      "\u001b[0;32m<ipython-input-51-022b3508ce8e>\u001b[0m in \u001b[0;36m<module>\u001b[0;34m\u001b[0m\n\u001b[0;32m----> 1\u001b[0;31m \u001b[0mranked_feb0_z\u001b[0m \u001b[0;34m=\u001b[0m \u001b[0mfeb_lin\u001b[0m\u001b[0;34m[\u001b[0m\u001b[0;36m3\u001b[0m\u001b[0;34m]\u001b[0m\u001b[0;34m\u001b[0m\u001b[0;34m\u001b[0m\u001b[0m\n\u001b[0m\u001b[1;32m      2\u001b[0m \u001b[0mranked_feb0_z\u001b[0m\u001b[0;34m\u001b[0m\u001b[0;34m\u001b[0m\u001b[0m\n",
      "\u001b[0;31mIndexError\u001b[0m: tuple index out of range"
     ]
    }
   ],
   "source": [
    "ranked_feb0_z = feb_lin[3]\n",
    "ranked_feb0_z"
   ]
  },
  {
   "cell_type": "code",
   "execution_count": 55,
   "metadata": {},
   "outputs": [
    {
     "data": {
      "text/plain": [
       "{'z4': 5550,\n",
       " 'z5': 6622,\n",
       " 'z3': 6060,\n",
       " 'z10': 7200,\n",
       " 'z9': 6755,\n",
       " 'z6': 7511,\n",
       " 'z8': 7282,\n",
       " 'z11': 6395,\n",
       " 'z1': 7242,\n",
       " 'z12': 7105,\n",
       " 'z7': 8292,\n",
       " 'z2': 7422}"
      ]
     },
     "execution_count": 55,
     "metadata": {},
     "output_type": "execute_result"
    }
   ],
   "source": [
    "rank_dict_z = {}\n",
    "for i in range(len(feb_lin[1])):\n",
    "    if feb_lin[1][i][0][1] in rank_dict_z:\n",
    "        rank_dict_z[feb_lin[1][i][0][1]] += i+1\n",
    "    else: \n",
    "        rank_dict_z[feb_lin[1][i][0][1]] = i+1\n",
    "rank_dict_z"
   ]
  },
  {
   "cell_type": "markdown",
   "metadata": {},
   "source": [
    "# March"
   ]
  },
  {
   "cell_type": "code",
   "execution_count": 9,
   "metadata": {},
   "outputs": [],
   "source": [
    "features_mar_2015 = pp.read_npy1('/u/project/cratsch/tescala/features_mar_2015.npy', features=True)\n",
    "\n",
    "targets_mar_2015 = pp.read_npy1('/u/project/cratsch/tescala/targets_mar_2015.npy', targets=True)"
   ]
  },
  {
   "cell_type": "code",
   "execution_count": 57,
   "metadata": {},
   "outputs": [],
   "source": [
    "# all of march\n",
    "# wald test coeffs = 0 \n",
    "# x's and z's ranked globally\n",
    "mar = waldtest.hours(features_mar_2015, targets_mar_2015, 2015, 3, 2, 9, 28)\n",
    "new_features_mar = mar[0]\n",
    "features_hour_mar = mar[1]\n",
    "targets_hour_mar = mar[2]\n",
    "mar_0 = waldtest.wald_equal(new_features_mar, features_hour_mar, targets_hour_mar)"
   ]
  },
  {
   "cell_type": "code",
   "execution_count": 58,
   "metadata": {},
   "outputs": [
    {
     "data": {
      "text/plain": [
       "{'x8': 271,\n",
       " 'x7': 331,\n",
       " 'x6': 366,\n",
       " 'x5': 893,\n",
       " 'x2': 1111,\n",
       " 'x33': 989,\n",
       " 'x3': 1459,\n",
       " 'x1': 1206,\n",
       " 'x11': 1284,\n",
       " 'x32': 1146,\n",
       " 'x10': 1301,\n",
       " 'x13': 1309,\n",
       " 'x34': 1623,\n",
       " 'x23': 1715,\n",
       " 'x27': 1586,\n",
       " 'x15': 2399,\n",
       " 'x4': 2549,\n",
       " 'x17': 3864,\n",
       " 'x18': 3546,\n",
       " 'x26': 3962,\n",
       " 'x12': 2994,\n",
       " 'x24': 2844,\n",
       " 'x20': 2937,\n",
       " 'x14': 3201,\n",
       " 'x16': 3946,\n",
       " 'x19': 3203,\n",
       " 'x21': 3403,\n",
       " 'x25': 3887,\n",
       " 'x28': 4108,\n",
       " 'x29': 3873,\n",
       " 'x22': 3692,\n",
       " 'x9': 3973,\n",
       " 'x30': 4113,\n",
       " 'x31': 4352}"
      ]
     },
     "execution_count": 58,
     "metadata": {},
     "output_type": "execute_result"
    }
   ],
   "source": [
    "ranked_mar0_x = mar_0[2]\n",
    "ranked_mar0_x"
   ]
  },
  {
   "cell_type": "code",
   "execution_count": 59,
   "metadata": {},
   "outputs": [
    {
     "data": {
      "text/plain": [
       "{'z4': 6074,\n",
       " 'z5': 5906,\n",
       " 'z3': 6227,\n",
       " 'z10': 7129,\n",
       " 'z6': 7057,\n",
       " 'z12': 6820,\n",
       " 'z9': 7460,\n",
       " 'z1': 7327,\n",
       " 'z8': 6779,\n",
       " 'z11': 6518,\n",
       " 'z7': 7610,\n",
       " 'z2': 8529}"
      ]
     },
     "execution_count": 59,
     "metadata": {},
     "output_type": "execute_result"
    }
   ],
   "source": [
    "rank_dict_z = {}\n",
    "for i in range(len(mar_0[1])):\n",
    "    if mar_0[1][i][0][1] in rank_dict_z:\n",
    "        rank_dict_z[mar_0[1][i][0][1]] += i+1\n",
    "    else: \n",
    "        rank_dict_z[mar_0[1][i][0][1]] = i+1\n",
    "rank_dict_z"
   ]
  },
  {
   "cell_type": "markdown",
   "metadata": {},
   "source": [
    "# April"
   ]
  },
  {
   "cell_type": "code",
   "execution_count": 13,
   "metadata": {},
   "outputs": [],
   "source": [
    "features_apr_2015 = pp.read_npy1('/u/project/cratsch/tescala/features_apr_2015.npy', features=True)\n",
    "\n",
    "targets_apr_2015 = pp.read_npy1('/u/project/cratsch/tescala/targets_apr_2015.npy', targets=True)"
   ]
  },
  {
   "cell_type": "code",
   "execution_count": 60,
   "metadata": {},
   "outputs": [],
   "source": [
    "# all of april\n",
    "# wald test coeffs = 0 \n",
    "# x's and z's ranked globally\n",
    "apr = waldtest.hours(features_apr_2015, targets_apr_2015, 2015, 4, 1, 9, 29)\n",
    "new_features_apr = apr[0]\n",
    "features_hour_apr = apr[1]\n",
    "targets_hour_apr = apr[2]\n",
    "apr_0 = waldtest.wald_equal(new_features_apr, features_hour_apr, targets_hour_apr)"
   ]
  },
  {
   "cell_type": "code",
   "execution_count": 61,
   "metadata": {},
   "outputs": [
    {
     "data": {
      "text/plain": [
       "{'x8': 241,\n",
       " 'x7': 424,\n",
       " 'x6': 463,\n",
       " 'x2': 1108,\n",
       " 'x3': 1150,\n",
       " 'x1': 1235,\n",
       " 'x5': 1199,\n",
       " 'x10': 1314,\n",
       " 'x13': 1332,\n",
       " 'x33': 1549,\n",
       " 'x11': 1444,\n",
       " 'x34': 1749,\n",
       " 'x32': 1693,\n",
       " 'x27': 2188,\n",
       " 'x21': 2072,\n",
       " 'x24': 2397,\n",
       " 'x22': 2403,\n",
       " 'x20': 2311,\n",
       " 'x23': 2443,\n",
       " 'x15': 2601,\n",
       " 'x18': 2788,\n",
       " 'x19': 2805,\n",
       " 'x4': 3139,\n",
       " 'x14': 3867,\n",
       " 'x16': 3826,\n",
       " 'x25': 3351,\n",
       " 'x17': 3664,\n",
       " 'x26': 3881,\n",
       " 'x9': 3690,\n",
       " 'x12': 3814,\n",
       " 'x28': 4155,\n",
       " 'x30': 4413,\n",
       " 'x31': 4359,\n",
       " 'x29': 4368}"
      ]
     },
     "execution_count": 61,
     "metadata": {},
     "output_type": "execute_result"
    }
   ],
   "source": [
    "ranked_apr0_x = apr_0[2]\n",
    "ranked_apr0_x"
   ]
  },
  {
   "cell_type": "code",
   "execution_count": 62,
   "metadata": {},
   "outputs": [
    {
     "data": {
      "text/plain": [
       "{'z5': 6424,\n",
       " 'z4': 6348,\n",
       " 'z3': 5901,\n",
       " 'z11': 6230,\n",
       " 'z10': 6753,\n",
       " 'z8': 6079,\n",
       " 'z9': 6374,\n",
       " 'z6': 7933,\n",
       " 'z1': 5981,\n",
       " 'z12': 6999,\n",
       " 'z7': 9944,\n",
       " 'z2': 8470}"
      ]
     },
     "execution_count": 62,
     "metadata": {},
     "output_type": "execute_result"
    }
   ],
   "source": [
    "rank_dict_z = {}\n",
    "for i in range(len(apr_0[1])):\n",
    "    if apr_0[1][i][0][1] in rank_dict_z:\n",
    "        rank_dict_z[apr_0[1][i][0][1]] += i+1\n",
    "    else: \n",
    "        rank_dict_z[apr_0[1][i][0][1]] = i+1\n",
    "rank_dict_z"
   ]
  },
  {
   "cell_type": "markdown",
   "metadata": {},
   "source": [
    "# May"
   ]
  },
  {
   "cell_type": "code",
   "execution_count": 17,
   "metadata": {},
   "outputs": [],
   "source": [
    "features_may_2015 = pp.read_npy1('/u/project/cratsch/tescala/features_may_2015.npy', features=True)\n",
    "\n",
    "targets_may_2015 = pp.read_npy1('/u/project/cratsch/tescala/targets_may_2015.npy', targets=True)"
   ]
  },
  {
   "cell_type": "code",
   "execution_count": 65,
   "metadata": {},
   "outputs": [],
   "source": [
    "# all of may\n",
    "# wald test coeffs = 0 \n",
    "# x's and z's ranked globally\n",
    "may = waldtest.hours(features_may_2015, targets_may_2015, 2015, 5, 4, 9, 25)\n",
    "new_features_may = may[0]\n",
    "features_hour_may = may[1]\n",
    "targets_hour_may = may[2]\n",
    "may_0 = waldtest.wald_equal(new_features_may, features_hour_may, targets_hour_may)"
   ]
  },
  {
   "cell_type": "code",
   "execution_count": 66,
   "metadata": {},
   "outputs": [
    {
     "data": {
      "text/plain": [
       "{'x8': 152,\n",
       " 'x7': 314,\n",
       " 'x6': 363,\n",
       " 'x23': 1440,\n",
       " 'x5': 966,\n",
       " 'x2': 1211,\n",
       " 'x3': 1042,\n",
       " 'x1': 1359,\n",
       " 'x10': 1440,\n",
       " 'x34': 1346,\n",
       " 'x13': 1509,\n",
       " 'x33': 1231,\n",
       " 'x32': 1342,\n",
       " 'x11': 1681,\n",
       " 'x15': 2317,\n",
       " 'x14': 2678,\n",
       " 'x27': 1931,\n",
       " 'x17': 2454,\n",
       " 'x19': 2779,\n",
       " 'x20': 2958,\n",
       " 'x24': 3092,\n",
       " 'x18': 3452,\n",
       " 'x16': 3020,\n",
       " 'x4': 3080,\n",
       " 'x21': 3601,\n",
       " 'x26': 3885,\n",
       " 'x12': 3977,\n",
       " 'x31': 4021,\n",
       " 'x22': 3845,\n",
       " 'x29': 3904,\n",
       " 'x25': 3890,\n",
       " 'x28': 4341,\n",
       " 'x9': 4378,\n",
       " 'x30': 4437}"
      ]
     },
     "execution_count": 66,
     "metadata": {},
     "output_type": "execute_result"
    }
   ],
   "source": [
    "ranked_may0_x = may_0[2]\n",
    "ranked_may0_x"
   ]
  },
  {
   "cell_type": "code",
   "execution_count": 67,
   "metadata": {},
   "outputs": [
    {
     "data": {
      "text/plain": [
       "{'z4': 6603,\n",
       " 'z5': 6485,\n",
       " 'z3': 6310,\n",
       " 'z9': 6325,\n",
       " 'z10': 5714,\n",
       " 'z6': 7531,\n",
       " 'z8': 6921,\n",
       " 'z1': 6490,\n",
       " 'z11': 6808,\n",
       " 'z7': 8293,\n",
       " 'z12': 7417,\n",
       " 'z2': 8539}"
      ]
     },
     "execution_count": 67,
     "metadata": {},
     "output_type": "execute_result"
    }
   ],
   "source": [
    "rank_dict_z = {}\n",
    "for i in range(len(may_0[1])):\n",
    "    if may_0[1][i][0][1] in rank_dict_z:\n",
    "        rank_dict_z[may_0[1][i][0][1]] += i+1\n",
    "    else: \n",
    "        rank_dict_z[may_0[1][i][0][1]] = i+1\n",
    "rank_dict_z"
   ]
  },
  {
   "cell_type": "markdown",
   "metadata": {},
   "source": [
    "# June"
   ]
  },
  {
   "cell_type": "code",
   "execution_count": 21,
   "metadata": {},
   "outputs": [],
   "source": [
    "features_jun_2015 = pp.read_npy1('/u/project/cratsch/tescala/features_jun_2015.npy', features=True)\n",
    "\n",
    "targets_jun_2015 = pp.read_npy1('/u/project/cratsch/tescala/targets_jun_2015.npy', targets=True)"
   ]
  },
  {
   "cell_type": "code",
   "execution_count": 68,
   "metadata": {},
   "outputs": [],
   "source": [
    "# all of june\n",
    "# wald test coeffs = 0 \n",
    "# x's and z's ranked globally\n",
    "jun = waldtest.hours(features_jun_2015, targets_jun_2015, 2015, 6, 1, 9, 26)\n",
    "new_features_jun = jun[0]\n",
    "features_hour_jun = jun[1]\n",
    "targets_hour_jun = jun[2]\n",
    "jun_0 = waldtest.wald_equal(new_features_jun, features_hour_jun, targets_hour_jun)"
   ]
  },
  {
   "cell_type": "code",
   "execution_count": 69,
   "metadata": {},
   "outputs": [
    {
     "data": {
      "text/plain": [
       "{'x8': 173,\n",
       " 'x7': 395,\n",
       " 'x6': 437,\n",
       " 'x3': 983,\n",
       " 'x5': 941,\n",
       " 'x34': 1232,\n",
       " 'x19': 1306,\n",
       " 'x23': 1250,\n",
       " 'x20': 1959,\n",
       " 'x2': 1619,\n",
       " 'x33': 1506,\n",
       " 'x1': 1947,\n",
       " 'x10': 2096,\n",
       " 'x11': 2010,\n",
       " 'x13': 2154,\n",
       " 'x32': 1802,\n",
       " 'x14': 2255,\n",
       " 'x18': 2598,\n",
       " 'x15': 2638,\n",
       " 'x24': 3221,\n",
       " 'x4': 2236,\n",
       " 'x22': 2857,\n",
       " 'x25': 3018,\n",
       " 'x27': 2838,\n",
       " 'x17': 3918,\n",
       " 'x21': 3166,\n",
       " 'x26': 3712,\n",
       " 'x16': 3812,\n",
       " 'x12': 4037,\n",
       " 'x9': 4099,\n",
       " 'x31': 3945,\n",
       " 'x30': 4291,\n",
       " 'x28': 4534,\n",
       " 'x29': 4451}"
      ]
     },
     "execution_count": 69,
     "metadata": {},
     "output_type": "execute_result"
    }
   ],
   "source": [
    "ranked_jun0_x = jun_0[2]\n",
    "ranked_jun0_x"
   ]
  },
  {
   "cell_type": "code",
   "execution_count": 70,
   "metadata": {},
   "outputs": [
    {
     "data": {
      "text/plain": [
       "{'z5': 6008,\n",
       " 'z4': 5677,\n",
       " 'z3': 5655,\n",
       " 'z9': 5730,\n",
       " 'z8': 6035,\n",
       " 'z11': 6550,\n",
       " 'z1': 7321,\n",
       " 'z10': 7626,\n",
       " 'z6': 7712,\n",
       " 'z12': 7333,\n",
       " 'z7': 8707,\n",
       " 'z2': 9082}"
      ]
     },
     "execution_count": 70,
     "metadata": {},
     "output_type": "execute_result"
    }
   ],
   "source": [
    "rank_dict_z = {}\n",
    "for i in range(len(jun_0[1])):\n",
    "    if jun_0[1][i][0][1] in rank_dict_z:\n",
    "        rank_dict_z[jun_0[1][i][0][1]] += i+1\n",
    "    else: \n",
    "        rank_dict_z[jun_0[1][i][0][1]] = i+1\n",
    "rank_dict_z"
   ]
  },
  {
   "cell_type": "markdown",
   "metadata": {},
   "source": [
    "# July"
   ]
  },
  {
   "cell_type": "code",
   "execution_count": 25,
   "metadata": {},
   "outputs": [],
   "source": [
    "features_jul_2015 = pp.read_npy1('/u/project/cratsch/tescala/features_jul_2015.npy', features=True)\n",
    "\n",
    "targets_jul_2015 = pp.read_npy1('/u/project/cratsch/tescala/targets_jul_2015.npy', targets=True)"
   ]
  },
  {
   "cell_type": "code",
   "execution_count": 71,
   "metadata": {},
   "outputs": [],
   "source": [
    "# all of july\n",
    "# wald test coeffs = 0 \n",
    "# x's and z's ranked globally\n",
    "jul = waldtest.hours(features_jul_2015, targets_jul_2015, 2015, 7, 1, 9, 30)\n",
    "new_features_jul = jul[0]\n",
    "features_hour_jul = jul[1]\n",
    "targets_hour_jul = jul[2]\n",
    "jul_0 = waldtest.wald_equal(new_features_jul, features_hour_jul, targets_hour_jul)"
   ]
  },
  {
   "cell_type": "code",
   "execution_count": 72,
   "metadata": {},
   "outputs": [
    {
     "data": {
      "text/plain": [
       "{'x8': 149,\n",
       " 'x7': 303,\n",
       " 'x6': 357,\n",
       " 'x3': 753,\n",
       " 'x2': 1152,\n",
       " 'x5': 825,\n",
       " 'x1': 1328,\n",
       " 'x13': 1412,\n",
       " 'x10': 1436,\n",
       " 'x23': 1444,\n",
       " 'x34': 1176,\n",
       " 'x11': 1686,\n",
       " 'x33': 1584,\n",
       " 'x32': 1808,\n",
       " 'x12': 3241,\n",
       " 'x24': 2827,\n",
       " 'x17': 3035,\n",
       " 'x15': 2729,\n",
       " 'x20': 3052,\n",
       " 'x27': 2402,\n",
       " 'x21': 2855,\n",
       " 'x14': 3563,\n",
       " 'x22': 2869,\n",
       " 'x4': 2971,\n",
       " 'x19': 3480,\n",
       " 'x16': 3424,\n",
       " 'x9': 3486,\n",
       " 'x25': 3441,\n",
       " 'x26': 3893,\n",
       " 'x18': 3806,\n",
       " 'x29': 4161,\n",
       " 'x30': 4093,\n",
       " 'x31': 4363,\n",
       " 'x28': 4332}"
      ]
     },
     "execution_count": 72,
     "metadata": {},
     "output_type": "execute_result"
    }
   ],
   "source": [
    "ranked_jul0_x = jul_0[2]\n",
    "ranked_jul0_x"
   ]
  },
  {
   "cell_type": "code",
   "execution_count": 73,
   "metadata": {},
   "outputs": [
    {
     "data": {
      "text/plain": [
       "{'z4': 6076,\n",
       " 'z3': 6154,\n",
       " 'z5': 6495,\n",
       " 'z9': 6626,\n",
       " 'z1': 6070,\n",
       " 'z10': 6766,\n",
       " 'z11': 6016,\n",
       " 'z8': 6330,\n",
       " 'z6': 8250,\n",
       " 'z12': 7804,\n",
       " 'z7': 8892,\n",
       " 'z2': 7957}"
      ]
     },
     "execution_count": 73,
     "metadata": {},
     "output_type": "execute_result"
    }
   ],
   "source": [
    "rank_dict_z = {}\n",
    "for i in range(len(jul_0[1])):\n",
    "    if jul_0[1][i][0][1] in rank_dict_z:\n",
    "        rank_dict_z[jul_0[1][i][0][1]] += i+1\n",
    "    else: \n",
    "        rank_dict_z[jul_0[1][i][0][1]] = i+1\n",
    "rank_dict_z"
   ]
  },
  {
   "cell_type": "markdown",
   "metadata": {},
   "source": [
    "# August"
   ]
  },
  {
   "cell_type": "code",
   "execution_count": 29,
   "metadata": {},
   "outputs": [],
   "source": [
    "features_aug_2015 = pp.read_npy1('/u/project/cratsch/tescala/features_aug_2015.npy', features=True)\n",
    "\n",
    "targets_aug_2015 = pp.read_npy1('/u/project/cratsch/tescala/targets_aug_2015.npy', targets=True)"
   ]
  },
  {
   "cell_type": "code",
   "execution_count": 74,
   "metadata": {},
   "outputs": [],
   "source": [
    "# all of august\n",
    "# wald test coeffs = 0 \n",
    "# x's and z's ranked globally\n",
    "aug = waldtest.hours(features_aug_2015, targets_aug_2015, 2015, 8, 3, 9, 25)\n",
    "new_features_aug = aug[0]\n",
    "features_hour_aug = aug[1]\n",
    "targets_hour_aug = aug[2]\n",
    "aug_0 = waldtest.wald_equal(new_features_aug, features_hour_aug, targets_hour_aug)"
   ]
  },
  {
   "cell_type": "code",
   "execution_count": 75,
   "metadata": {},
   "outputs": [
    {
     "data": {
      "text/plain": [
       "{'x8': 312,\n",
       " 'x7': 415,\n",
       " 'x6': 449,\n",
       " 'x3': 935,\n",
       " 'x2': 1050,\n",
       " 'x34': 1100,\n",
       " 'x5': 1057,\n",
       " 'x23': 1378,\n",
       " 'x1': 1252,\n",
       " 'x33': 1242,\n",
       " 'x13': 1377,\n",
       " 'x10': 1360,\n",
       " 'x32': 1451,\n",
       " 'x11': 1627,\n",
       " 'x27': 1960,\n",
       " 'x15': 2168,\n",
       " 'x20': 2682,\n",
       " 'x24': 2778,\n",
       " 'x17': 2878,\n",
       " 'x16': 3491,\n",
       " 'x12': 3802,\n",
       " 'x26': 3746,\n",
       " 'x19': 3420,\n",
       " 'x14': 3392,\n",
       " 'x25': 3771,\n",
       " 'x9': 3316,\n",
       " 'x4': 3342,\n",
       " 'x21': 3884,\n",
       " 'x31': 3626,\n",
       " 'x30': 4140,\n",
       " 'x22': 3843,\n",
       " 'x18': 3972,\n",
       " 'x29': 4023,\n",
       " 'x28': 4197}"
      ]
     },
     "execution_count": 75,
     "metadata": {},
     "output_type": "execute_result"
    }
   ],
   "source": [
    "ranked_aug0_x = aug_0[2]\n",
    "ranked_aug0_x"
   ]
  },
  {
   "cell_type": "code",
   "execution_count": 80,
   "metadata": {},
   "outputs": [
    {
     "data": {
      "text/plain": [
       "{'z3': 6053,\n",
       " 'z4': 5899,\n",
       " 'z5': 6432,\n",
       " 'z11': 6290,\n",
       " 'z8': 6497,\n",
       " 'z9': 6696,\n",
       " 'z10': 6714,\n",
       " 'z1': 7292,\n",
       " 'z7': 7718,\n",
       " 'z12': 7583,\n",
       " 'z6': 7530,\n",
       " 'z2': 8732}"
      ]
     },
     "execution_count": 80,
     "metadata": {},
     "output_type": "execute_result"
    }
   ],
   "source": [
    "rank_dict_z = {}\n",
    "for i in range(len(aug_0[1])):\n",
    "    if aug_0[1][i][0][1] in rank_dict_z:\n",
    "        rank_dict_z[aug_0[1][i][0][1]] += i+1\n",
    "    else: \n",
    "        rank_dict_z[aug_0[1][i][0][1]] = i+1\n",
    "rank_dict_z"
   ]
  },
  {
   "cell_type": "markdown",
   "metadata": {},
   "source": [
    "# September"
   ]
  },
  {
   "cell_type": "code",
   "execution_count": 33,
   "metadata": {},
   "outputs": [],
   "source": [
    "features_sep_2015 = pp.read_npy1('/u/project/cratsch/tescala/features_sep_2015.npy', features=True)\n",
    "\n",
    "targets_sep_2015 = pp.read_npy1('/u/project/cratsch/tescala/targets_sep_2015.npy', targets=True)"
   ]
  },
  {
   "cell_type": "code",
   "execution_count": 77,
   "metadata": {},
   "outputs": [],
   "source": [
    "# all of september\n",
    "# wald test coeffs = 0 \n",
    "# x's and z's ranked globally\n",
    "sep = waldtest.hours(features_sep_2015, targets_sep_2015, 2015, 9, 1, 9, 25)\n",
    "new_features_sep = sep[0]\n",
    "features_hour_sep = sep[1]\n",
    "targets_hour_sep = sep[2]\n",
    "sep_0 = waldtest.wald_equal(new_features_sep, features_hour_sep, targets_hour_sep)"
   ]
  },
  {
   "cell_type": "code",
   "execution_count": 78,
   "metadata": {},
   "outputs": [
    {
     "data": {
      "text/plain": [
       "{'x8': 176,\n",
       " 'x7': 309,\n",
       " 'x6': 364,\n",
       " 'x34': 992,\n",
       " 'x5': 849,\n",
       " 'x3': 767,\n",
       " 'x33': 1224,\n",
       " 'x2': 1031,\n",
       " 'x1': 1359,\n",
       " 'x32': 1592,\n",
       " 'x13': 1579,\n",
       " 'x10': 1573,\n",
       " 'x11': 1864,\n",
       " 'x23': 2082,\n",
       " 'x12': 3172,\n",
       " 'x15': 2207,\n",
       " 'x27': 2218,\n",
       " 'x20': 2297,\n",
       " 'x24': 2530,\n",
       " 'x19': 2749,\n",
       " 'x14': 2794,\n",
       " 'x17': 2884,\n",
       " 'x18': 3885,\n",
       " 'x16': 3222,\n",
       " 'x25': 3615,\n",
       " 'x21': 3654,\n",
       " 'x26': 3706,\n",
       " 'x22': 3785,\n",
       " 'x4': 3808,\n",
       " 'x31': 4001,\n",
       " 'x28': 4150,\n",
       " 'x9': 4385,\n",
       " 'x30': 4272,\n",
       " 'x29': 4341}"
      ]
     },
     "execution_count": 78,
     "metadata": {},
     "output_type": "execute_result"
    }
   ],
   "source": [
    "ranked_sep0_x = sep_0[2]\n",
    "ranked_sep0_x"
   ]
  },
  {
   "cell_type": "code",
   "execution_count": 79,
   "metadata": {},
   "outputs": [
    {
     "data": {
      "text/plain": [
       "{'z5': 6348,\n",
       " 'z4': 6331,\n",
       " 'z10': 6645,\n",
       " 'z9': 6164,\n",
       " 'z8': 6307,\n",
       " 'z1': 7016,\n",
       " 'z3': 6722,\n",
       " 'z11': 6281,\n",
       " 'z6': 7678,\n",
       " 'z12': 6709,\n",
       " 'z7': 8973,\n",
       " 'z2': 8262}"
      ]
     },
     "execution_count": 79,
     "metadata": {},
     "output_type": "execute_result"
    }
   ],
   "source": [
    "rank_dict_z = {}\n",
    "for i in range(len(sep_0[1])):\n",
    "    if sep_0[1][i][0][1] in rank_dict_z:\n",
    "        rank_dict_z[sep_0[1][i][0][1]] += i+1\n",
    "    else: \n",
    "        rank_dict_z[sep_0[1][i][0][1]] = i+1\n",
    "rank_dict_z"
   ]
  },
  {
   "cell_type": "markdown",
   "metadata": {},
   "source": [
    "# October"
   ]
  },
  {
   "cell_type": "code",
   "execution_count": 37,
   "metadata": {},
   "outputs": [],
   "source": [
    "features_oct_2015 = pp.read_npy1('/u/project/cratsch/tescala/features_oct_2015.npy', features=True)\n",
    "\n",
    "targets_oct_2015 = pp.read_npy1('/u/project/cratsch/tescala/targets_oct_2015.npy', targets=True)"
   ]
  },
  {
   "cell_type": "code",
   "execution_count": 81,
   "metadata": {},
   "outputs": [],
   "source": [
    "# all of october\n",
    "# wald test coeffs = 0 \n",
    "# x's and z's ranked globally\n",
    "october = waldtest.hours(features_oct_2015, targets_oct_2015, 2015, 10, 5, 9, 25)\n",
    "new_features_oct = october[0]\n",
    "features_hour_oct = october[1]\n",
    "targets_hour_oct = october[2]\n",
    "oct_0 = waldtest.wald_equal(new_features_oct, features_hour_oct, targets_hour_oct)"
   ]
  },
  {
   "cell_type": "code",
   "execution_count": 82,
   "metadata": {},
   "outputs": [
    {
     "data": {
      "text/plain": [
       "{'x8': 276,\n",
       " 'x7': 424,\n",
       " 'x6': 457,\n",
       " 'x23': 1881,\n",
       " 'x3': 1554,\n",
       " 'x2': 1348,\n",
       " 'x5': 1063,\n",
       " 'x1': 1355,\n",
       " 'x10': 1424,\n",
       " 'x13': 1508,\n",
       " 'x21': 2050,\n",
       " 'x22': 1906,\n",
       " 'x33': 1416,\n",
       " 'x32': 1456,\n",
       " 'x34': 1722,\n",
       " 'x11': 2023,\n",
       " 'x24': 2250,\n",
       " 'x27': 1867,\n",
       " 'x20': 3530,\n",
       " 'x25': 2835,\n",
       " 'x18': 2923,\n",
       " 'x26': 3105,\n",
       " 'x14': 2892,\n",
       " 'x16': 3791,\n",
       " 'x19': 3222,\n",
       " 'x17': 3885,\n",
       " 'x12': 3484,\n",
       " 'x15': 3936,\n",
       " 'x31': 3749,\n",
       " 'x28': 3757,\n",
       " 'x4': 4210,\n",
       " 'x30': 3985,\n",
       " 'x29': 3945,\n",
       " 'x9': 4207}"
      ]
     },
     "execution_count": 82,
     "metadata": {},
     "output_type": "execute_result"
    }
   ],
   "source": [
    "ranked_oct0_x = oct_0[2]\n",
    "ranked_oct0_x"
   ]
  },
  {
   "cell_type": "code",
   "execution_count": 83,
   "metadata": {},
   "outputs": [
    {
     "data": {
      "text/plain": [
       "{'z4': 5892,\n",
       " 'z3': 5703,\n",
       " 'z8': 6221,\n",
       " 'z10': 5751,\n",
       " 'z1': 6880,\n",
       " 'z9': 6440,\n",
       " 'z5': 6822,\n",
       " 'z11': 6595,\n",
       " 'z6': 8838,\n",
       " 'z12': 7198,\n",
       " 'z7': 9549,\n",
       " 'z2': 7547}"
      ]
     },
     "execution_count": 83,
     "metadata": {},
     "output_type": "execute_result"
    }
   ],
   "source": [
    "rank_dict_z = {}\n",
    "for i in range(len(oct_0[1])):\n",
    "    if oct_0[1][i][0][1] in rank_dict_z:\n",
    "        rank_dict_z[oct_0[1][i][0][1]] += i+1\n",
    "    else: \n",
    "        rank_dict_z[oct_0[1][i][0][1]] = i+1\n",
    "rank_dict_z"
   ]
  },
  {
   "cell_type": "markdown",
   "metadata": {},
   "source": [
    "# November"
   ]
  },
  {
   "cell_type": "code",
   "execution_count": 41,
   "metadata": {},
   "outputs": [],
   "source": [
    "features_nov_2015 = pp.read_npy1('/u/project/cratsch/tescala/features_nov_2015.npy', features=True)\n",
    "\n",
    "targets_nov_2015 = pp.read_npy1('/u/project/cratsch/tescala/targets_nov_2015.npy', targets=True)"
   ]
  },
  {
   "cell_type": "code",
   "execution_count": 84,
   "metadata": {},
   "outputs": [],
   "source": [
    "# all of november\n",
    "# wald test coeffs = 0 \n",
    "# x's and z's ranked globally\n",
    "nov = waldtest.hours(features_nov_2015, targets_nov_2015, 2015, 11, 2, 9, 25)\n",
    "new_features_nov = nov[0]\n",
    "features_hour_nov = nov[1]\n",
    "targets_hour_nov = nov[2]\n",
    "nov_0 = waldtest.wald_equal(new_features_nov, features_hour_nov, targets_hour_nov)"
   ]
  },
  {
   "cell_type": "code",
   "execution_count": 85,
   "metadata": {},
   "outputs": [
    {
     "data": {
      "text/plain": [
       "{'x8': 269,\n",
       " 'x7': 472,\n",
       " 'x6': 520,\n",
       " 'x23': 1557,\n",
       " 'x34': 1214,\n",
       " 'x5': 927,\n",
       " 'x3': 1769,\n",
       " 'x20': 1613,\n",
       " 'x21': 1742,\n",
       " 'x19': 1539,\n",
       " 'x18': 1700,\n",
       " 'x33': 1664,\n",
       " 'x32': 1895,\n",
       " 'x22': 2025,\n",
       " 'x2': 2261,\n",
       " 'x15': 2813,\n",
       " 'x24': 2386,\n",
       " 'x12': 2110,\n",
       " 'x16': 2947,\n",
       " 'x14': 3817,\n",
       " 'x17': 2807,\n",
       " 'x1': 2506,\n",
       " 'x10': 2603,\n",
       " 'x13': 2808,\n",
       " 'x27': 2861,\n",
       " 'x25': 3503,\n",
       " 'x26': 3167,\n",
       " 'x28': 3692,\n",
       " 'x11': 3618,\n",
       " 'x9': 3959,\n",
       " 'x4': 3750,\n",
       " 'x29': 4123,\n",
       " 'x30': 4374,\n",
       " 'x31': 4425}"
      ]
     },
     "execution_count": 85,
     "metadata": {},
     "output_type": "execute_result"
    }
   ],
   "source": [
    "ranked_nov0_x = nov_0[2]\n",
    "ranked_nov0_x"
   ]
  },
  {
   "cell_type": "code",
   "execution_count": 86,
   "metadata": {},
   "outputs": [
    {
     "data": {
      "text/plain": [
       "{'z5': 5146,\n",
       " 'z4': 5927,\n",
       " 'z9': 5909,\n",
       " 'z3': 6507,\n",
       " 'z8': 5830,\n",
       " 'z1': 7199,\n",
       " 'z6': 6707,\n",
       " 'z10': 6534,\n",
       " 'z7': 8194,\n",
       " 'z11': 6964,\n",
       " 'z12': 8004,\n",
       " 'z2': 10515}"
      ]
     },
     "execution_count": 86,
     "metadata": {},
     "output_type": "execute_result"
    }
   ],
   "source": [
    "rank_dict_z = {}\n",
    "for i in range(len(nov_0[1])):\n",
    "    if nov_0[1][i][0][1] in rank_dict_z:\n",
    "        rank_dict_z[nov_0[1][i][0][1]] += i+1\n",
    "    else: \n",
    "        rank_dict_z[nov_0[1][i][0][1]] = i+1\n",
    "rank_dict_z"
   ]
  },
  {
   "cell_type": "markdown",
   "metadata": {},
   "source": [
    "# December"
   ]
  },
  {
   "cell_type": "code",
   "execution_count": 45,
   "metadata": {},
   "outputs": [],
   "source": [
    "features_dec_2015 = pp.read_npy1('/u/project/cratsch/tescala/features_dec_2015.npy', features=True)\n",
    "\n",
    "targets_dec_2015 = pp.read_npy1('/u/project/cratsch/tescala/targets_dec_2015.npy', targets=True)"
   ]
  },
  {
   "cell_type": "code",
   "execution_count": 87,
   "metadata": {},
   "outputs": [],
   "source": [
    "# all of december\n",
    "# wald test coeffs = 0 \n",
    "# x's and z's ranked globally\n",
    "dec = waldtest.hours(features_dec_2015, targets_dec_2015, 2015, 12, 1, 9, 24)\n",
    "new_features_dec = dec[0]\n",
    "features_hour_dec = dec[1]\n",
    "targets_hour_dec = dec[2]\n",
    "dec_0 = waldtest.wald_equal(new_features_dec, features_hour_dec, targets_hour_dec)"
   ]
  },
  {
   "cell_type": "code",
   "execution_count": 88,
   "metadata": {},
   "outputs": [
    {
     "data": {
      "text/plain": [
       "{'x8': 128,\n",
       " 'x7': 307,\n",
       " 'x6': 359,\n",
       " 'x20': 861,\n",
       " 'x3': 1199,\n",
       " 'x18': 1396,\n",
       " 'x34': 1311,\n",
       " 'x23': 1741,\n",
       " 'x19': 1382,\n",
       " 'x5': 1788,\n",
       " 'x2': 2599,\n",
       " 'x15': 2344,\n",
       " 'x16': 2285,\n",
       " 'x17': 2098,\n",
       " 'x1': 2706,\n",
       " 'x10': 2663,\n",
       " 'x21': 2317,\n",
       " 'x13': 2763,\n",
       " 'x12': 2379,\n",
       " 'x32': 2525,\n",
       " 'x33': 2427,\n",
       " 'x14': 3285,\n",
       " 'x22': 2524,\n",
       " 'x24': 2859,\n",
       " 'x11': 3398,\n",
       " 'x29': 3696,\n",
       " 'x9': 3655,\n",
       " 'x4': 2836,\n",
       " 'x26': 3529,\n",
       " 'x25': 3864,\n",
       " 'x30': 4060,\n",
       " 'x28': 3981,\n",
       " 'x31': 4082,\n",
       " 'x27': 4089}"
      ]
     },
     "execution_count": 88,
     "metadata": {},
     "output_type": "execute_result"
    }
   ],
   "source": [
    "ranked_dec0_x = dec_0[2]\n",
    "ranked_dec0_x"
   ]
  },
  {
   "cell_type": "code",
   "execution_count": 89,
   "metadata": {
    "scrolled": true
   },
   "outputs": [
    {
     "data": {
      "text/plain": [
       "{'z9': 5562,\n",
       " 'z5': 6960,\n",
       " 'z4': 5923,\n",
       " 'z1': 6799,\n",
       " 'z10': 6497,\n",
       " 'z3': 5489,\n",
       " 'z11': 7453,\n",
       " 'z6': 7991,\n",
       " 'z8': 6036,\n",
       " 'z7': 9056,\n",
       " 'z12': 8919,\n",
       " 'z2': 6751}"
      ]
     },
     "execution_count": 89,
     "metadata": {},
     "output_type": "execute_result"
    }
   ],
   "source": [
    "rank_dict_z = {}\n",
    "for i in range(len(dec_0[1])):\n",
    "    if dec_0[1][i][0][1] in rank_dict_z:\n",
    "        rank_dict_z[dec_0[1][i][0][1]] += i+1\n",
    "    else: \n",
    "        rank_dict_z[dec_0[1][i][0][1]] = i+1\n",
    "rank_dict_z"
   ]
  },
  {
   "cell_type": "markdown",
   "metadata": {},
   "source": [
    "Trying to get f stat test to work and not give zeros."
   ]
  },
  {
   "cell_type": "code",
   "execution_count": 5,
   "metadata": {},
   "outputs": [
    {
     "ename": "ValueError",
     "evalue": "all the input array dimensions for the concatenation axis must match exactly, but along dimension 0, the array at index 0 has size 701352 and the array at index 1 has size 701684",
     "output_type": "error",
     "traceback": [
      "\u001b[0;31m\u001b[0m",
      "\u001b[0;31mValueError\u001b[0mTraceback (most recent call last)",
      "\u001b[0;32m<ipython-input-5-6aa5613c4dc7>\u001b[0m in \u001b[0;36m<module>\u001b[0;34m\u001b[0m\n\u001b[0;32m----> 1\u001b[0;31m \u001b[0mf\u001b[0m\u001b[0;34m,\u001b[0m \u001b[0mp\u001b[0m \u001b[0;34m=\u001b[0m \u001b[0meda\u001b[0m\u001b[0;34m.\u001b[0m\u001b[0mols_results\u001b[0m\u001b[0;34m(\u001b[0m\u001b[0mfeatures_hour\u001b[0m\u001b[0;34m,\u001b[0m \u001b[0mtargets_hour\u001b[0m\u001b[0;34m,\u001b[0m \u001b[0mx\u001b[0m\u001b[0;34m=\u001b[0m\u001b[0;34m'x1'\u001b[0m\u001b[0;34m,\u001b[0m \u001b[0mz\u001b[0m\u001b[0;34m=\u001b[0m\u001b[0;34m'z1'\u001b[0m\u001b[0;34m,\u001b[0m \u001b[0my\u001b[0m\u001b[0;34m=\u001b[0m\u001b[0;34m'y2'\u001b[0m\u001b[0;34m)\u001b[0m\u001b[0;34m\u001b[0m\u001b[0;34m\u001b[0m\u001b[0m\n\u001b[0m",
      "\u001b[0;32m/u/scratch/a/ashleytt/eda.py\u001b[0m in \u001b[0;36mols_results\u001b[0;34m(feature_df, target_df, x, z, y)\u001b[0m\n\u001b[1;32m    188\u001b[0m     \u001b[0mbias\u001b[0m \u001b[0;34m=\u001b[0m \u001b[0mnp\u001b[0m\u001b[0;34m.\u001b[0m\u001b[0mones\u001b[0m\u001b[0;34m(\u001b[0m\u001b[0mx_z_q2\u001b[0m\u001b[0;34m.\u001b[0m\u001b[0mshape\u001b[0m\u001b[0;34m)\u001b[0m\u001b[0;34m\u001b[0m\u001b[0;34m\u001b[0m\u001b[0m\n\u001b[1;32m    189\u001b[0m \u001b[0;34m\u001b[0m\u001b[0m\n\u001b[0;32m--> 190\u001b[0;31m     \u001b[0mx__\u001b[0m \u001b[0;34m=\u001b[0m \u001b[0mnp\u001b[0m\u001b[0;34m.\u001b[0m\u001b[0mconcatenate\u001b[0m\u001b[0;34m(\u001b[0m\u001b[0;34m(\u001b[0m\u001b[0mbias\u001b[0m\u001b[0;34m,\u001b[0m \u001b[0mx_\u001b[0m\u001b[0;34m,\u001b[0m \u001b[0mx_z_q2\u001b[0m\u001b[0;34m,\u001b[0m \u001b[0mx_z_q3\u001b[0m\u001b[0;34m,\u001b[0m \u001b[0mx_z_q4\u001b[0m\u001b[0;34m)\u001b[0m\u001b[0;34m,\u001b[0m \u001b[0maxis\u001b[0m\u001b[0;34m=\u001b[0m\u001b[0;36m1\u001b[0m\u001b[0;34m)\u001b[0m\u001b[0;34m\u001b[0m\u001b[0;34m\u001b[0m\u001b[0m\n\u001b[0m\u001b[1;32m    191\u001b[0m     \u001b[0my_\u001b[0m \u001b[0;34m=\u001b[0m \u001b[0mnp\u001b[0m\u001b[0;34m.\u001b[0m\u001b[0mconcatenate\u001b[0m\u001b[0;34m(\u001b[0m\u001b[0;34m(\u001b[0m\u001b[0my_q1\u001b[0m\u001b[0;34m,\u001b[0m \u001b[0my_q2\u001b[0m\u001b[0;34m,\u001b[0m \u001b[0my_q3\u001b[0m\u001b[0;34m,\u001b[0m \u001b[0my_q4\u001b[0m\u001b[0;34m)\u001b[0m\u001b[0;34m,\u001b[0m \u001b[0maxis\u001b[0m\u001b[0;34m=\u001b[0m\u001b[0;36m0\u001b[0m\u001b[0;34m)\u001b[0m\u001b[0;34m\u001b[0m\u001b[0;34m\u001b[0m\u001b[0m\n\u001b[1;32m    192\u001b[0m \u001b[0;34m\u001b[0m\u001b[0m\n",
      "\u001b[0;32m<__array_function__ internals>\u001b[0m in \u001b[0;36mconcatenate\u001b[0;34m(*args, **kwargs)\u001b[0m\n",
      "\u001b[0;31mValueError\u001b[0m: all the input array dimensions for the concatenation axis must match exactly, but along dimension 0, the array at index 0 has size 701352 and the array at index 1 has size 701684"
     ]
    }
   ],
   "source": [
    "f, p = eda.ols_results(features_hour, targets_hour, x='x1', z='z1', y='y2')"
   ]
  },
  {
   "cell_type": "code",
   "execution_count": 8,
   "metadata": {},
   "outputs": [
    {
     "data": {
      "text/plain": [
       "701684"
      ]
     },
     "execution_count": 8,
     "metadata": {},
     "output_type": "execute_result"
    }
   ],
   "source": [
    "len(features_hour)"
   ]
  },
  {
   "cell_type": "code",
   "execution_count": 9,
   "metadata": {},
   "outputs": [
    {
     "data": {
      "text/plain": [
       "701684"
      ]
     },
     "execution_count": 9,
     "metadata": {},
     "output_type": "execute_result"
    }
   ],
   "source": [
    "len(targets_hour)"
   ]
  },
  {
   "cell_type": "code",
   "execution_count": null,
   "metadata": {},
   "outputs": [],
   "source": [
    "\n"
   ]
  }
 ],
 "metadata": {
  "kernelspec": {
   "display_name": "Python 3",
   "language": "python",
   "name": "python3"
  },
  "language_info": {
   "codemirror_mode": {
    "name": "ipython",
    "version": 3
   },
   "file_extension": ".py",
   "mimetype": "text/x-python",
   "name": "python",
   "nbconvert_exporter": "python",
   "pygments_lexer": "ipython3",
   "version": "3.8.5"
  }
 },
 "nbformat": 4,
 "nbformat_minor": 4
}
