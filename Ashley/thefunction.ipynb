{
 "cells": [
  {
   "cell_type": "code",
   "execution_count": 1,
   "metadata": {},
   "outputs": [],
   "source": [
    "import pandas as pd\n",
    "import numpy as np\n",
    "import preprocess as pp\n",
    "import matplotlib.pyplot as plt\n",
    "import datetime\n",
    "from sklearn.linear_model import LinearRegression\n",
    "from sklearn.decomposition import PCA\n",
    "from sklearn.metrics import r2_score\n",
    "import eda\n",
    "import statsmodels.api as sm"
   ]
  },
  {
   "cell_type": "code",
   "execution_count": 2,
   "metadata": {},
   "outputs": [],
   "source": [
    "def wls_results_wald(feature_df, target_df, x=None, z=None, y='y2'):\n",
    "\n",
    "    q1 = feature_df[z].quantile(.25)\n",
    "    q2 = feature_df[z].quantile(.5)\n",
    "    q3 = feature_df[z].quantile(.75)\n",
    "    \n",
    "    I_q2 = np.where((feature_df[z] >= q1) & (feature_df[z] < q2), 1, 0)\n",
    "    I_q3 = np.where((feature_df[z] >= q2) & (feature_df[z] < q3), 1, 0)\n",
    "    I_q4 = np.where(feature_df[z] >= q3, 1, 0)\n",
    "    \n",
    "    x_ = np.array(feature_df[x]).reshape(-1,1)\n",
    "    z_ = np.array(feature_df[z]).reshape(-1,1)\n",
    "    \n",
    "    x_z_q2 = I_q2.reshape(-1,1) * x_ * z_\n",
    "    x_z_q3 = I_q3.reshape(-1,1) * x_ * z_\n",
    "    x_z_q4 = I_q4.reshape(-1,1) * x_ * z_\n",
    "\n",
    "    bias = np.ones(x_.shape)\n",
    "    \n",
    "    x__ = np.concatenate((bias, x_, x_z_q2, x_z_q3, x_z_q4), axis=1)\n",
    "    y_ = target_df[y]\n",
    "    weights = np.array(feature_df['weights']).reshape(-1,1)\n",
    "\n",
    "    results = sm.WLS(y_, x__, weights=weights).fit()\n",
    "    w = results.wald_test(np.eye(len(results.params))[2:5])\n",
    "    f = w.fvalue\n",
    "    p = w.pvalue\n",
    "    \n",
    "    summary = results.summary()\n",
    "    f_pvalue = results.f_pvalue\n",
    "    \n",
    "    return f, p, summary, f_pvalue"
   ]
  },
  {
   "cell_type": "code",
   "execution_count": 3,
   "metadata": {},
   "outputs": [],
   "source": [
    "def ranked_from_wald0(features, targets):\n",
    "    z_list = features.loc[:,'z1':'z12'].columns\n",
    "    x_list = features.loc[:,'x1':'x34'].columns\n",
    "\n",
    "    f_list = []\n",
    "    p_list = []\n",
    "    for z in z_list:\n",
    "        flist = []\n",
    "        plist = []\n",
    "        for feat in x_list:\n",
    "            f0, p0 = wls_results_wald(features, targets, x=feat, z=z)\n",
    "            flist.append(f0)\n",
    "            plist.append(p0)\n",
    "\n",
    "        f_list.append(flist)\n",
    "        p_list.append(plist)\n",
    "    \n",
    "    f_dict = {'z1':f_list[0], 'z2':f_list[1], 'z3':f_list[2], 'z4':f_list[3],\n",
    "              'z5':f_list[4], 'z6':f_list[5], 'z7':f_list[6], 'z8':f_list[7],\n",
    "              'z9':f_list[8], 'z10':f_list[9], 'z11':f_list[10], 'z12':f_list[11]}\n",
    "\n",
    "    f_df = pd.DataFrame.from_dict(f_dict, orient='index',\n",
    "                           columns=x_list)\n",
    "\n",
    "    p_dict = {'z1':p_list[0], 'z2':p_list[1], 'z3':p_list[2], 'z4':p_list[3],\n",
    "              'z5':p_list[4], 'z6':p_list[5], 'z7':p_list[6], 'z8':p_list[7],\n",
    "              'z9':p_list[8], 'z10':p_list[9], 'z11':p_list[10], 'z12':p_list[11]}\n",
    "\n",
    "    p_df = pd.DataFrame.from_dict(p_dict, orient='index',\n",
    "                           columns=x_list)\n",
    "    \n",
    "     \n",
    "    p_list = []\n",
    "    for col in p_df.columns:\n",
    "        for idx in p_df.index:\n",
    "            val = p_df.loc[idx, col]\n",
    "            p_list.append(((col, idx), val))\n",
    "    \n",
    "    # ranked pairs with pvals\n",
    "    ranked_p = eda.sort_scores1(p_list)\n",
    "   \n",
    "    # change K \n",
    "    return ranked_p[:10]"
   ]
  },
  {
   "cell_type": "code",
   "execution_count": 3,
   "metadata": {},
   "outputs": [],
   "source": [
    "def normalize_and_fill(df):\n",
    "    mean = df.loc[:,'x1':'z12'].mean()\n",
    "    std = df.loc[:,'x1':'z12'].std()\n",
    "    df.loc[:,'x1':'z12'] = (df.loc[:,'x1':'z12'] - mean)/std\n",
    "    \n",
    "    df = df.fillna(0)\n",
    "    \n",
    "    return df, mean, std"
   ]
  },
  {
   "cell_type": "code",
   "execution_count": 4,
   "metadata": {},
   "outputs": [],
   "source": [
    "def train_and_test(features_df, targets_df, year=None, \n",
    "                   train_month_start=None, train_day_start=None,\n",
    "                   train_month_end=None, train_day_end=None,\n",
    "                   test_month_start=None, test_day_start=None,\n",
    "                   test_month_end=None, test_day_end=None):\n",
    "    \n",
    "    train_features = features_df.loc[(features_df['datetime'].dt.date >= datetime.date(year, train_month_start, train_day_start))\n",
    "                                    & (features_df['datetime'].dt.date <= datetime.date(year, train_month_end, train_day_end))]\n",
    "    train_targets = targets_df.loc[(targets_df['datetime'].dt.date >= datetime.date(year, train_month_start, train_day_start))\n",
    "                                    & (targets_df['datetime'].dt.date <= datetime.date(year, train_month_end, train_day_end))]\n",
    "    \n",
    "    test_features = features_df.loc[(features_df['datetime'].dt.date >= datetime.date(year, test_month_start, test_day_start))\n",
    "                                    & (features_df['datetime'].dt.date <= datetime.date(year, test_month_end, test_day_end))]\n",
    "    test_targets = targets_df.loc[(targets_df['datetime'].dt.date >= datetime.date(year, test_month_start, test_day_start))\n",
    "                                    & (targets_df['datetime'].dt.date <= datetime.date(year, test_month_end, test_day_end))]\n",
    "    \n",
    "    return train_features, train_targets, test_features, test_targets"
   ]
  },
  {
   "cell_type": "code",
   "execution_count": 5,
   "metadata": {},
   "outputs": [],
   "source": [
    "def selection(train_features, train_targets, test_features, test_targets):\n",
    "    \n",
    "    z_list = train_features.loc[:,'z1':'z12'].columns\n",
    "    x_list = train_features.loc[:,'x1':'x34'].columns\n",
    "    \n",
    "    train_features, mean, std = normalize_and_fill(train_features)\n",
    "    test_features.loc[:,'x1':] = (test_features.loc[:,'x1':]-mean)/std\n",
    "    test_features = test_features.fillna(0)\n",
    "    \n",
    "    ranked_p = ranked_from_wald0(train_features, train_targets)\n",
    "    \n",
    "    pairs_list_train_top = []\n",
    "    pairs_list_test_top = []\n",
    "    pairs_list = []\n",
    "    for pair in ranked_p:\n",
    "        print(pair)\n",
    "        pairs_list.append(pair[0])\n",
    "        x = pair[0][0]\n",
    "        z = pair[0][1]\n",
    "        x_col_train = np.array(train_features[x]).reshape(-1,1)\n",
    "        z_col_train = np.array(train_features[z]).reshape(-1,1)\n",
    "        x_z_train = x_col_train * z_col_train\n",
    "        pairs_list_train_top.append(x_z_train)\n",
    "        x_col_test = np.array(test_features[x]).reshape(-1,1)\n",
    "        z_col_test = np.array(test_features[z]).reshape(-1,1)\n",
    "        x_z_test = x_col_test * z_col_test\n",
    "        pairs_list_test_top.append(x_z_test)\n",
    "        \n",
    "    pairs_list_train_all = []\n",
    "    pairs_list_test_all = []\n",
    "    for x in x_list:\n",
    "        x_col_train = np.array(train_features[x]).reshape(-1,1)\n",
    "        x_col_test = np.array(test_features[x]).reshape(-1,1)\n",
    "        pairs_list_train_all.append(x_col_train)\n",
    "        pairs_list_test_all.append(x_col_test)\n",
    "        for z in z_list:\n",
    "            z_col_train = np.array(train_features[z]).reshape(-1,1)\n",
    "            x_z_train = x_col_train * z_col_train\n",
    "            pairs_list_train_all.append(x_z_train)\n",
    "            z_col_test = np.array(test_features[z]).reshape(-1,1)\n",
    "            x_z_test = x_col_test * z_col_test\n",
    "            pairs_list_test_all.append(x_z_test)\n",
    "        \n",
    "    train_features_all = np.concatenate(pairs_list_train_all, axis=1)\n",
    "    test_features_all = np.concatenate(pairs_list_test_all, axis=1)\n",
    "    train_features_top = np.concatenate(pairs_list_train_top, axis=1)\n",
    "    test_features_top = np.concatenate(pairs_list_test_top, axis=1)\n",
    "    \n",
    "    df = pd.DataFrame(np.array(pairs_list))\n",
    "    \n",
    "    return train_features_all, test_features_all, train_features_top, test_features_top, df"
   ]
  },
  {
   "cell_type": "code",
   "execution_count": 6,
   "metadata": {},
   "outputs": [],
   "source": [
    "def cov_and_r2(train_features_all, train_features_top, train_targets, test_features_all, test_features_top, test_targets):\n",
    "    \n",
    "    pca = PCA(n_components=10)\n",
    "    pca.fit(train_features_all)\n",
    "    train_features_pca = pca.transform(train_features_all)\n",
    "    test_features_pca = pca.transform(test_features_all)\n",
    "    \n",
    "    lr_all = LinearRegression().fit(train_features_all, np.array(train_targets['y2']).reshape(-1,1))\n",
    "    lr_top = LinearRegression().fit(train_features_top, np.array(train_targets['y2']).reshape(-1,1))\n",
    "    lr_pca = LinearRegression().fit(train_features_pca, np.array(train_targets['y2']).reshape(-1,1))\n",
    "    \n",
    "    pred_all = np.array(lr_all.predict(test_features_all)).reshape(-1,)\n",
    "    pred_top = np.array(lr_top.predict(test_features_top)).reshape(-1,)\n",
    "    pred_pca = np.array(lr_pca.predict(test_features_pca)).reshape(-1,)\n",
    "    \n",
    "    x = np.stack((pred_all, pred_top, pred_pca), axis=0)\n",
    "    cov = np.cov(x)\n",
    "    \n",
    "    print('R2 from all features')\n",
    "    print(r2_score(np.array(test_targets['y2']).reshape(-1,1), pred_all))\n",
    "    print('R2 from top features')\n",
    "    print(r2_score(np.array(test_targets['y2']).reshape(-1,1), pred_top))\n",
    "    print('R2 from pca features')\n",
    "    print(r2_score(np.array(test_targets['y2']).reshape(-1,1), pred_pca))\n",
    "    \n",
    "    return cov"
   ]
  },
  {
   "cell_type": "code",
   "execution_count": 8,
   "metadata": {},
   "outputs": [],
   "source": [
    "jan_features = pp.read_npy1('/u/project/cratsch/tescala/month_split_right/features_jan_2015.npy', features=True)\n",
    "jan_targets = pp.read_npy1('/u/project/cratsch/tescala/month_split_right/targets_jan_2015.npy', targets=True)\n",
    "\n",
    "feb_features = pp.read_npy1('/u/project/cratsch/tescala/month_split_right/features_feb_2015.npy', features=True)\n",
    "feb_targets = pp.read_npy1('/u/project/cratsch/tescala/month_split_right/targets_feb_2015.npy', targets=True)\n",
    "\n",
    "mar_features = pp.read_npy1('/u/project/cratsch/tescala/month_split_right/features_mar_2015.npy', features=True)\n",
    "mar_targets = pp.read_npy1('/u/project/cratsch/tescala/month_split_right/targets_mar_2015.npy', targets=True)\n",
    "\n",
    "z_list = ['z2', 'z3', 'z4', 'z5', 'z6', 'z7', 'z8', 'z9', 'z10', 'z11', 'z12']\n",
    "\n",
    "new_jan_features = jan_features.loc[:, 'datetime':'z1']\n",
    "for z in z_list:\n",
    "    new_jan_features[z] = jan_features[z]\n",
    "    \n",
    "new_feb_features = feb_features.loc[:, 'datetime':'z1']\n",
    "for z in z_list:\n",
    "    new_feb_features[z] = feb_features[z]\n",
    "    \n",
    "new_mar_features = mar_features.loc[:, 'datetime':'z1']\n",
    "for z in z_list:\n",
    "    new_mar_features[z] = mar_features[z]\n",
    "    \n",
    "comb_features = pd.concat([new_jan_features, new_feb_features, new_mar_features], ignore_index=True)\n",
    "comb_targets = pd.concat([jan_targets, feb_targets, mar_targets], ignore_index=True)"
   ]
  },
  {
   "cell_type": "code",
   "execution_count": 9,
   "metadata": {},
   "outputs": [],
   "source": [
    "train_features, train_targets, test_features, test_targets = train_and_test(comb_features, comb_targets, year=2015, \n",
    "                   train_month_start=1, train_day_start=5,\n",
    "                   train_month_end=1, train_day_end=30,\n",
    "                   test_month_start=2, test_day_start=2,\n",
    "                   test_month_end=2, test_day_end=6)"
   ]
  },
  {
   "cell_type": "code",
   "execution_count": 26,
   "metadata": {
    "scrolled": true
   },
   "outputs": [
    {
     "name": "stderr",
     "output_type": "stream",
     "text": [
      "/u/local/apps/anaconda3/2020.11/lib/python3.8/site-packages/pandas/core/indexing.py:1717: SettingWithCopyWarning: \n",
      "A value is trying to be set on a copy of a slice from a DataFrame.\n",
      "Try using .loc[row_indexer,col_indexer] = value instead\n",
      "\n",
      "See the caveats in the documentation: https://pandas.pydata.org/pandas-docs/stable/user_guide/indexing.html#returning-a-view-versus-a-copy\n",
      "  isetter(loc, v)\n"
     ]
    },
    {
     "name": "stdout",
     "output_type": "stream",
     "text": [
      "(('x32', 'z7'), array(1.96997619e-175))\n",
      "(('x7', 'z8'), array(2.23257168e-151))\n",
      "(('x33', 'z7'), array(1.47841329e-144))\n",
      "(('x2', 'z8'), array(5.46852246e-132))\n",
      "(('x8', 'z8'), array(2.27825442e-130))\n",
      "(('x8', 'z4'), array(1.42186772e-129))\n",
      "(('x3', 'z8'), array(3.188399e-121))\n",
      "(('x6', 'z8'), array(5.245387e-111))\n",
      "(('x34', 'z7'), array(3.14470793e-110))\n",
      "(('x5', 'z7'), array(1.16224417e-85))\n"
     ]
    },
    {
     "data": {
      "text/html": [
       "<div>\n",
       "<style scoped>\n",
       "    .dataframe tbody tr th:only-of-type {\n",
       "        vertical-align: middle;\n",
       "    }\n",
       "\n",
       "    .dataframe tbody tr th {\n",
       "        vertical-align: top;\n",
       "    }\n",
       "\n",
       "    .dataframe thead th {\n",
       "        text-align: right;\n",
       "    }\n",
       "</style>\n",
       "<table border=\"1\" class=\"dataframe\">\n",
       "  <thead>\n",
       "    <tr style=\"text-align: right;\">\n",
       "      <th></th>\n",
       "      <th>0</th>\n",
       "      <th>1</th>\n",
       "    </tr>\n",
       "  </thead>\n",
       "  <tbody>\n",
       "    <tr>\n",
       "      <th>0</th>\n",
       "      <td>x32</td>\n",
       "      <td>z7</td>\n",
       "    </tr>\n",
       "    <tr>\n",
       "      <th>1</th>\n",
       "      <td>x7</td>\n",
       "      <td>z8</td>\n",
       "    </tr>\n",
       "    <tr>\n",
       "      <th>2</th>\n",
       "      <td>x33</td>\n",
       "      <td>z7</td>\n",
       "    </tr>\n",
       "    <tr>\n",
       "      <th>3</th>\n",
       "      <td>x2</td>\n",
       "      <td>z8</td>\n",
       "    </tr>\n",
       "    <tr>\n",
       "      <th>4</th>\n",
       "      <td>x8</td>\n",
       "      <td>z8</td>\n",
       "    </tr>\n",
       "    <tr>\n",
       "      <th>5</th>\n",
       "      <td>x8</td>\n",
       "      <td>z4</td>\n",
       "    </tr>\n",
       "    <tr>\n",
       "      <th>6</th>\n",
       "      <td>x3</td>\n",
       "      <td>z8</td>\n",
       "    </tr>\n",
       "    <tr>\n",
       "      <th>7</th>\n",
       "      <td>x6</td>\n",
       "      <td>z8</td>\n",
       "    </tr>\n",
       "    <tr>\n",
       "      <th>8</th>\n",
       "      <td>x34</td>\n",
       "      <td>z7</td>\n",
       "    </tr>\n",
       "    <tr>\n",
       "      <th>9</th>\n",
       "      <td>x5</td>\n",
       "      <td>z7</td>\n",
       "    </tr>\n",
       "  </tbody>\n",
       "</table>\n",
       "</div>"
      ],
      "text/plain": [
       "     0   1\n",
       "0  x32  z7\n",
       "1   x7  z8\n",
       "2  x33  z7\n",
       "3   x2  z8\n",
       "4   x8  z8\n",
       "5   x8  z4\n",
       "6   x3  z8\n",
       "7   x6  z8\n",
       "8  x34  z7\n",
       "9   x5  z7"
      ]
     },
     "execution_count": 26,
     "metadata": {},
     "output_type": "execute_result"
    }
   ],
   "source": [
    "train_features_all, test_features_all, train_features_top, test_features_top, df = selection(train_features, train_targets, test_features, test_targets)\n",
    "df\n"
   ]
  },
  {
   "cell_type": "code",
   "execution_count": 27,
   "metadata": {},
   "outputs": [
    {
     "data": {
      "text/html": [
       "<div>\n",
       "<style scoped>\n",
       "    .dataframe tbody tr th:only-of-type {\n",
       "        vertical-align: middle;\n",
       "    }\n",
       "\n",
       "    .dataframe tbody tr th {\n",
       "        vertical-align: top;\n",
       "    }\n",
       "\n",
       "    .dataframe thead th {\n",
       "        text-align: right;\n",
       "    }\n",
       "</style>\n",
       "<table border=\"1\" class=\"dataframe\">\n",
       "  <thead>\n",
       "    <tr style=\"text-align: right;\">\n",
       "      <th></th>\n",
       "      <th>0</th>\n",
       "      <th>1</th>\n",
       "    </tr>\n",
       "  </thead>\n",
       "  <tbody>\n",
       "    <tr>\n",
       "      <th>0</th>\n",
       "      <td>x32</td>\n",
       "      <td>z7</td>\n",
       "    </tr>\n",
       "    <tr>\n",
       "      <th>1</th>\n",
       "      <td>x7</td>\n",
       "      <td>z8</td>\n",
       "    </tr>\n",
       "    <tr>\n",
       "      <th>2</th>\n",
       "      <td>x33</td>\n",
       "      <td>z7</td>\n",
       "    </tr>\n",
       "    <tr>\n",
       "      <th>3</th>\n",
       "      <td>x2</td>\n",
       "      <td>z8</td>\n",
       "    </tr>\n",
       "    <tr>\n",
       "      <th>4</th>\n",
       "      <td>x8</td>\n",
       "      <td>z8</td>\n",
       "    </tr>\n",
       "    <tr>\n",
       "      <th>5</th>\n",
       "      <td>x8</td>\n",
       "      <td>z4</td>\n",
       "    </tr>\n",
       "    <tr>\n",
       "      <th>6</th>\n",
       "      <td>x3</td>\n",
       "      <td>z8</td>\n",
       "    </tr>\n",
       "    <tr>\n",
       "      <th>7</th>\n",
       "      <td>x6</td>\n",
       "      <td>z8</td>\n",
       "    </tr>\n",
       "    <tr>\n",
       "      <th>8</th>\n",
       "      <td>x34</td>\n",
       "      <td>z7</td>\n",
       "    </tr>\n",
       "    <tr>\n",
       "      <th>9</th>\n",
       "      <td>x5</td>\n",
       "      <td>z7</td>\n",
       "    </tr>\n",
       "  </tbody>\n",
       "</table>\n",
       "</div>"
      ],
      "text/plain": [
       "     0   1\n",
       "0  x32  z7\n",
       "1   x7  z8\n",
       "2  x33  z7\n",
       "3   x2  z8\n",
       "4   x8  z8\n",
       "5   x8  z4\n",
       "6   x3  z8\n",
       "7   x6  z8\n",
       "8  x34  z7\n",
       "9   x5  z7"
      ]
     },
     "execution_count": 27,
     "metadata": {},
     "output_type": "execute_result"
    }
   ],
   "source": [
    "df"
   ]
  },
  {
   "cell_type": "code",
   "execution_count": 11,
   "metadata": {},
   "outputs": [
    {
     "name": "stdout",
     "output_type": "stream",
     "text": [
      "R2 from all features\n",
      "0.002191605368637828\n",
      "R2 from top features\n",
      "0.0006632985064024544\n",
      "R2 from pca features\n",
      "0.0003889630826435786\n"
     ]
    },
    {
     "data": {
      "text/plain": [
       "array([[2.69763101e-08, 5.58738119e-09, 2.48590069e-09],\n",
       "       [5.58738119e-09, 5.90822340e-09, 2.02523364e-09],\n",
       "       [2.48590069e-09, 2.02523364e-09, 2.87053386e-09]])"
      ]
     },
     "execution_count": 11,
     "metadata": {},
     "output_type": "execute_result"
    }
   ],
   "source": [
    "cov = cov_and_r2(train_features_all, train_features_top, train_targets, test_features_all, test_features_top, test_targets)\n",
    "cov"
   ]
  },
  {
   "cell_type": "code",
   "execution_count": null,
   "metadata": {},
   "outputs": [],
   "source": [
    "df.to_csv('top_feats_jan1_for_mob.csv', index=False)"
   ]
  },
  {
   "cell_type": "code",
   "execution_count": 39,
   "metadata": {},
   "outputs": [
    {
     "ename": "SyntaxError",
     "evalue": "invalid syntax (<ipython-input-39-2d60f9e2a5d7>, line 12)",
     "output_type": "error",
     "traceback": [
      "\u001b[0;36m  File \u001b[0;32m\"<ipython-input-39-2d60f9e2a5d7>\"\u001b[0;36m, line \u001b[0;32m12\u001b[0m\n\u001b[0;31m    for tms, tds, tme, tde, testms, testds, testme, testde in zip(train_month_start, train_day_start, train_month_end, train_day_end, test_month_start, test_day_start, test_month_end, test_day_end)\u001b[0m\n\u001b[0m                                                                                                                                                                                                     ^\u001b[0m\n\u001b[0;31mSyntaxError\u001b[0m\u001b[0;31m:\u001b[0m invalid syntax\n"
     ]
    }
   ],
   "source": [
    "train_month_start = [1,1,1,1,2,2,2,2]\n",
    "train_day_start = [5,12,19,26,2,9,16,23]\n",
    "train_month_end = [1,2,2,2,2,3,3,3]\n",
    "train_day_end = [30,6,13,20,27,6,13,20]\n",
    "test_month_start = [2,2,2,2,3,3,3,3]\n",
    "test_day_start = [2,9,16,23,2,9,16,23]\n",
    "test_month_end = [2,2,2,2,3,3,3,3]\n",
    "test_day_end = [6,13,20,27,6,13,20,27]\n",
    "\n",
    "\n",
    "\n",
    "for tms, tds, tme, tde, testms, testds, testme, testde in zip(train_month_start, train_day_start, train_month_end, train_day_end, test_month_start, test_day_start, test_month_end, test_day_end)\n",
    "    \n",
    "    train_features, train_targets, test_features, test_targets = train_and_test(comb_features, comb_targets, year=2015, \n",
    "                   train_month_start=tms, train_day_start=tds,\n",
    "                   train_month_end=tme, train_day_end=tde,\n",
    "                   test_month_start=testms, test_day_start=testds,\n",
    "                   test_month_end=testme, test_day_end=testde)\n",
    "    \n",
    "    train_features_all, test_features_all, train_features_top, test_features_top, df = selection(train_features, train_targets, test_features, test_targets)\n",
    "\n",
    "    cov = cov_and_r2(train_features_all, train_features_top, train_targets, test_features_all, test_features_top, test_targets)\n",
    "\n",
    "    df.to_csv('topfeats_{}_{}_early_{}.csv'.format(tms, tds, 50) , index=False)"
   ]
  },
  {
   "cell_type": "code",
   "execution_count": null,
   "metadata": {},
   "outputs": [],
   "source": [
    "# Q2\n",
    "train_month_start = [4,4,4,4,5,5,5,5]\n",
    "train_day_start = [6,13,20,27,4,11,18,25]\n",
    "train_month_end = [5,5,5,5,5,6,6,6]\n",
    "train_day_end = [1,8,15,22,29,5,12,19]\n",
    "test_month_start = [5,5,5,5,6,6,6,6]\n",
    "test_day_start = [4,11,18,25,1,8,15,22]\n",
    "test_month_end = [5,5,5,5,6,6,6,6]\n",
    "test_day_end = [8,15,22,29,5,12,19,26]\n",
    "\n",
    "# Q3\n",
    "train_month_start = [7,7,7,7,8,8,8,8]\n",
    "train_day_start = [6,13,20,27,3,10,17,24]\n",
    "train_month_end = [7,8,8,8,8,9,9,9]\n",
    "train_day_end = [31,7,14,21,28,4,11,18]\n",
    "test_month_start = [8,8,8,8,9,9,9,9]\n",
    "test_day_start = [3,10,17,24,31,7,14,21]\n",
    "test_month_end = [8,8,8,8,9,9,9,9]\n",
    "test_day_end = [7,14,21,28,4,11,18,25]\n",
    "\n",
    "# Q4\n",
    "train_month_start = [10,10,10,10,11,11,11,11]\n",
    "train_day_start = [5,12,19,26,2,9,16,23]\n",
    "train_month_end = [10,11,11,11,11,11,12,12]\n",
    "train_day_end = [30,6,13,20,27,4,11,18]\n",
    "test_month_start = [11,11,11,11,12,12,12,12]\n",
    "test_day_start = [2,9,16,23,30,7,14,21]\n",
    "test_month_end = [11,11,11,11,12,12,12,12]\n",
    "test_day_end = [6,13,20,27,4,11,18,25]"
   ]
  },
  {
   "cell_type": "markdown",
   "metadata": {},
   "source": [
    "# Figuring out F Stat P-val"
   ]
  },
  {
   "cell_type": "code",
   "execution_count": 7,
   "metadata": {},
   "outputs": [],
   "source": [
    "jan_features = pp.read_npy1('/u/project/cratsch/tescala/month_split_right/features_jan_2015.npy', features=True)\n",
    "jan_targets = pp.read_npy1('/u/project/cratsch/tescala/month_split_right/targets_jan_2015.npy', targets=True)"
   ]
  },
  {
   "cell_type": "code",
   "execution_count": 8,
   "metadata": {},
   "outputs": [],
   "source": [
    "z_list = ['z2', 'z3', 'z4', 'z5', 'z6', 'z7', 'z8', 'z9', 'z10', 'z11', 'z12']\n",
    "new_jan_features = jan_features.loc[:, 'datetime':'z1']\n",
    "for z in z_list:\n",
    "    new_jan_features[z] = jan_features[z]"
   ]
  },
  {
   "cell_type": "code",
   "execution_count": 9,
   "metadata": {},
   "outputs": [],
   "source": [
    "features, mean, std = normalize_and_fill(new_jan_features)"
   ]
  },
  {
   "cell_type": "code",
   "execution_count": 38,
   "metadata": {},
   "outputs": [
    {
     "ename": "OverflowError",
     "evalue": "int too large to convert to float",
     "output_type": "error",
     "traceback": [
      "\u001b[0;31m\u001b[0m",
      "\u001b[0;31mOverflowError\u001b[0mTraceback (most recent call last)",
      "\u001b[0;32m<ipython-input-38-ee1d074e32b0>\u001b[0m in \u001b[0;36m<module>\u001b[0;34m\u001b[0m\n\u001b[1;32m      1\u001b[0m \u001b[0mf\u001b[0m\u001b[0;34m,\u001b[0m \u001b[0mp\u001b[0m\u001b[0;34m,\u001b[0m \u001b[0msummary\u001b[0m\u001b[0;34m,\u001b[0m \u001b[0mf_pvalue\u001b[0m \u001b[0;34m=\u001b[0m \u001b[0mwls_results_wald\u001b[0m\u001b[0;34m(\u001b[0m\u001b[0mfeatures\u001b[0m\u001b[0;34m,\u001b[0m \u001b[0mjan_targets\u001b[0m\u001b[0;34m,\u001b[0m \u001b[0mx\u001b[0m\u001b[0;34m=\u001b[0m\u001b[0;34m'x2'\u001b[0m\u001b[0;34m,\u001b[0m \u001b[0mz\u001b[0m\u001b[0;34m=\u001b[0m\u001b[0;34m'z8'\u001b[0m\u001b[0;34m,\u001b[0m \u001b[0my\u001b[0m\u001b[0;34m=\u001b[0m\u001b[0;34m'y2'\u001b[0m\u001b[0;34m)\u001b[0m\u001b[0;34m\u001b[0m\u001b[0;34m\u001b[0m\u001b[0m\n\u001b[0;32m----> 2\u001b[0;31m \u001b[0mf_pvalue\u001b[0m \u001b[0;34m*\u001b[0m \u001b[0;36m10\u001b[0m\u001b[0;34m**\u001b[0m\u001b[0;36m350\u001b[0m\u001b[0;34m\u001b[0m\u001b[0;34m\u001b[0m\u001b[0m\n\u001b[0m",
      "\u001b[0;31mOverflowError\u001b[0m: int too large to convert to float"
     ]
    }
   ],
   "source": [
    "f, p, summary, f_pvalue = wls_results_wald(features, jan_targets, x='x2', z='z8', y='y2')\n",
    "f_pvalue * 10**350"
   ]
  },
  {
   "cell_type": "code",
   "execution_count": 29,
   "metadata": {
    "collapsed": true
   },
   "outputs": [
    {
     "data": {
      "text/html": [
       "<table class=\"simpletable\">\n",
       "<caption>WLS Regression Results</caption>\n",
       "<tr>\n",
       "  <th>Dep. Variable:</th>           <td>y2</td>        <th>  R-squared:         </th>  <td>   0.000</td> \n",
       "</tr>\n",
       "<tr>\n",
       "  <th>Model:</th>                   <td>WLS</td>       <th>  Adj. R-squared:    </th>  <td>   0.000</td> \n",
       "</tr>\n",
       "<tr>\n",
       "  <th>Method:</th>             <td>Least Squares</td>  <th>  F-statistic:       </th>  <td>   173.6</td> \n",
       "</tr>\n",
       "<tr>\n",
       "  <th>Date:</th>             <td>Fri, 06 Aug 2021</td> <th>  Prob (F-statistic):</th>  <td>5.30e-149</td>\n",
       "</tr>\n",
       "<tr>\n",
       "  <th>Time:</th>                 <td>14:54:30</td>     <th>  Log-Likelihood:    </th> <td>1.8596e+07</td>\n",
       "</tr>\n",
       "<tr>\n",
       "  <th>No. Observations:</th>      <td>4050786</td>     <th>  AIC:               </th> <td>-3.719e+07</td>\n",
       "</tr>\n",
       "<tr>\n",
       "  <th>Df Residuals:</th>          <td>4050781</td>     <th>  BIC:               </th> <td>-3.719e+07</td>\n",
       "</tr>\n",
       "<tr>\n",
       "  <th>Df Model:</th>              <td>     4</td>      <th>                     </th>      <td> </td>    \n",
       "</tr>\n",
       "<tr>\n",
       "  <th>Covariance Type:</th>      <td>nonrobust</td>    <th>                     </th>      <td> </td>    \n",
       "</tr>\n",
       "</table>\n",
       "<table class=\"simpletable\">\n",
       "<tr>\n",
       "    <td></td>       <th>coef</th>     <th>std err</th>      <th>t</th>      <th>P>|t|</th>  <th>[0.025</th>    <th>0.975]</th>  \n",
       "</tr>\n",
       "<tr>\n",
       "  <th>const</th> <td>-2.668e-07</td> <td> 8.96e-07</td> <td>   -0.298</td> <td> 0.766</td> <td>-2.02e-06</td> <td> 1.49e-06</td>\n",
       "</tr>\n",
       "<tr>\n",
       "  <th>x1</th>    <td>-3.644e-05</td> <td> 1.85e-06</td> <td>  -19.668</td> <td> 0.000</td> <td>-4.01e-05</td> <td>-3.28e-05</td>\n",
       "</tr>\n",
       "<tr>\n",
       "  <th>x2</th>    <td>-9.816e-06</td> <td> 7.05e-06</td> <td>   -1.392</td> <td> 0.164</td> <td>-2.36e-05</td> <td> 4.01e-06</td>\n",
       "</tr>\n",
       "<tr>\n",
       "  <th>x3</th>    <td>-1.644e-05</td> <td> 1.18e-05</td> <td>   -1.397</td> <td> 0.162</td> <td>-3.95e-05</td> <td> 6.62e-06</td>\n",
       "</tr>\n",
       "<tr>\n",
       "  <th>x4</th>    <td> 6.238e-06</td> <td> 1.68e-06</td> <td>    3.724</td> <td> 0.000</td> <td> 2.95e-06</td> <td> 9.52e-06</td>\n",
       "</tr>\n",
       "</table>\n",
       "<table class=\"simpletable\">\n",
       "<tr>\n",
       "  <th>Omnibus:</th>       <td>586089.500</td> <th>  Durbin-Watson:     </th>  <td>   1.992</td>  \n",
       "</tr>\n",
       "<tr>\n",
       "  <th>Prob(Omnibus):</th>   <td> 0.000</td>   <th>  Jarque-Bera (JB):  </th> <td>9271081.215</td>\n",
       "</tr>\n",
       "<tr>\n",
       "  <th>Skew:</th>            <td> 0.019</td>   <th>  Prob(JB):          </th>  <td>    0.00</td>  \n",
       "</tr>\n",
       "<tr>\n",
       "  <th>Kurtosis:</th>        <td>10.411</td>   <th>  Cond. No.          </th>  <td>    13.3</td>  \n",
       "</tr>\n",
       "</table><br/><br/>Notes:<br/>[1] Standard Errors assume that the covariance matrix of the errors is correctly specified."
      ],
      "text/plain": [
       "<class 'statsmodels.iolib.summary.Summary'>\n",
       "\"\"\"\n",
       "                            WLS Regression Results                            \n",
       "==============================================================================\n",
       "Dep. Variable:                     y2   R-squared:                       0.000\n",
       "Model:                            WLS   Adj. R-squared:                  0.000\n",
       "Method:                 Least Squares   F-statistic:                     173.6\n",
       "Date:                Fri, 06 Aug 2021   Prob (F-statistic):          5.30e-149\n",
       "Time:                        14:54:30   Log-Likelihood:             1.8596e+07\n",
       "No. Observations:             4050786   AIC:                        -3.719e+07\n",
       "Df Residuals:                 4050781   BIC:                        -3.719e+07\n",
       "Df Model:                           4                                         \n",
       "Covariance Type:            nonrobust                                         \n",
       "==============================================================================\n",
       "                 coef    std err          t      P>|t|      [0.025      0.975]\n",
       "------------------------------------------------------------------------------\n",
       "const      -2.668e-07   8.96e-07     -0.298      0.766   -2.02e-06    1.49e-06\n",
       "x1         -3.644e-05   1.85e-06    -19.668      0.000   -4.01e-05   -3.28e-05\n",
       "x2         -9.816e-06   7.05e-06     -1.392      0.164   -2.36e-05    4.01e-06\n",
       "x3         -1.644e-05   1.18e-05     -1.397      0.162   -3.95e-05    6.62e-06\n",
       "x4          6.238e-06   1.68e-06      3.724      0.000    2.95e-06    9.52e-06\n",
       "==============================================================================\n",
       "Omnibus:                   586089.500   Durbin-Watson:                   1.992\n",
       "Prob(Omnibus):                  0.000   Jarque-Bera (JB):          9271081.215\n",
       "Skew:                           0.019   Prob(JB):                         0.00\n",
       "Kurtosis:                      10.411   Cond. No.                         13.3\n",
       "==============================================================================\n",
       "\n",
       "Notes:\n",
       "[1] Standard Errors assume that the covariance matrix of the errors is correctly specified.\n",
       "\"\"\""
      ]
     },
     "execution_count": 29,
     "metadata": {},
     "output_type": "execute_result"
    }
   ],
   "source": [
    "summary"
   ]
  },
  {
   "cell_type": "code",
   "execution_count": 26,
   "metadata": {},
   "outputs": [
    {
     "data": {
      "text/plain": [
       "2.6240824008836123e-05"
      ]
     },
     "execution_count": 26,
     "metadata": {},
     "output_type": "execute_result"
    }
   ],
   "source": [
    "f, p = eda.ols_results(features, jan_targets, x='x13', z='z12', y='y2')\n",
    "p"
   ]
  },
  {
   "cell_type": "code",
   "execution_count": 11,
   "metadata": {},
   "outputs": [
    {
     "data": {
      "text/plain": [
       "4.090195924716568e-95"
      ]
     },
     "execution_count": 11,
     "metadata": {},
     "output_type": "execute_result"
    }
   ],
   "source": [
    "p"
   ]
  },
  {
   "cell_type": "code",
   "execution_count": 12,
   "metadata": {},
   "outputs": [
    {
     "data": {
      "text/plain": [
       "111.37985162800378"
      ]
     },
     "execution_count": 12,
     "metadata": {},
     "output_type": "execute_result"
    }
   ],
   "source": [
    "f"
   ]
  },
  {
   "cell_type": "code",
   "execution_count": null,
   "metadata": {},
   "outputs": [],
   "source": []
  }
 ],
 "metadata": {
  "kernelspec": {
   "display_name": "Python 3",
   "language": "python",
   "name": "python3"
  },
  "language_info": {
   "codemirror_mode": {
    "name": "ipython",
    "version": 3
   },
   "file_extension": ".py",
   "mimetype": "text/x-python",
   "name": "python",
   "nbconvert_exporter": "python",
   "pygments_lexer": "ipython3",
   "version": "3.8.5"
  }
 },
 "nbformat": 4,
 "nbformat_minor": 2
}
